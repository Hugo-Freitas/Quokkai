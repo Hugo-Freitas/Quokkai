{
 "cells": [
  {
   "cell_type": "code",
   "execution_count": 12,
   "id": "4acb5f8d",
   "metadata": {},
   "outputs": [],
   "source": [
    "from bs4 import BeautifulSoup\n",
    "import requests\n",
    "import time\n",
    "import pandas as pd\n",
    "from requests import get\n",
    "import re\n",
    "from datetime import date, timedelta\n"
   ]
  },
  {
   "cell_type": "markdown",
   "id": "11f61ec3",
   "metadata": {},
   "source": [
    "# Le parisien"
   ]
  },
  {
   "cell_type": "code",
   "execution_count": 13,
   "id": "afce7746",
   "metadata": {},
   "outputs": [],
   "source": [
    "link_to_scrape = \"https://www.leparisien.fr/\"\n",
    "lien_article = \"https://www.leparisien.fr/seine-et-marne-77/le-faux-gendarme-multipliait-les-victimes-dans-toute-la-france-grace-a-ses-arnaques-telephoniques-29-06-2022-IOZFT47FRVCCNCWDFWDJ6XQQMY.php\"\n"
   ]
  },
  {
   "cell_type": "code",
   "execution_count": 14,
   "id": "dc94ac9a",
   "metadata": {},
   "outputs": [],
   "source": [
    "page = get(lien_article)\n",
    "html_soup = BeautifulSoup(page.text, 'html.parser')"
   ]
  },
  {
   "cell_type": "code",
   "execution_count": 15,
   "id": "6bed1ed7",
   "metadata": {},
   "outputs": [],
   "source": [
    "def imagedown(lien_article):\n",
    "\n",
    "    headlines_img = html_soup.find_all('img',{'class':'image'})\n",
    "\n",
    "    image_stokage = []\n",
    "\n",
    "    for i, headlines_img in enumerate(headlines_img):\n",
    "        image_url = headlines_img['src']\n",
    "        response =  requests.get(link_to_scrape+ image_url) #pour avoir le www.leparisien.fr\n",
    "        print(i,image_url )\n",
    "        image_stokage = image_url\n",
    "        with open(str(i) + '.jpg', 'wb') as f:\n",
    "            for chunk in response.iter_content(chunk_size=128):\n",
    "                f.write(chunk)"
   ]
  },
  {
   "cell_type": "code",
   "execution_count": 16,
   "id": "5cd2dc4f",
   "metadata": {},
   "outputs": [
    {
     "name": "stdout",
     "output_type": "stream",
     "text": [
      "0 /resizer/Q_ttKYIgX-hpSvRb_7mm2JPOUwQ=/932x582/cloudfront-eu-central-1.images.arcpublishing.com/leparisien/675PIMBPZFEMFE7XHPHFNI7KVQ.jpg\n",
      "1 /resizer/tj9PAld9dZ6wH5o9iKwbZt3LhwQ=/360x225/cloudfront-eu-central-1.images.arcpublishing.com/leparisien/BVDQPX7UQRCB3KKZOIUFDUOYJ4.jpg\n",
      "2 /resizer/P_jt2sBAyQr2qYxaU2S08ShrckI=/360x225/cloudfront-eu-central-1.images.arcpublishing.com/leparisien/UTBPZ4ELYZCIPPC2LUFUYKL5XE.jpg\n",
      "3 /resizer/wWepoIJYGzbgbk5GB-JQZidcH8A=/360x225/cloudfront-eu-central-1.images.arcpublishing.com/leparisien/BE47MILLOBEFBJCQD4XLJH35GY.jpg\n",
      "4 /resizer/pDh3Sf_uo4Gg1Q0RF1HM494qaZo=/360x225/cloudfront-eu-central-1.images.arcpublishing.com/leparisien/ISKPTB46DNCFTLRGWPZHLFODIA.jpg\n",
      "5 /resizer/XCtt4VuSCQFFyzySF4kAC4MfIV8=/360x225/cloudfront-eu-central-1.images.arcpublishing.com/leparisien/LGFZHTOFFNDERDPMWARSUWV6A4.jpg\n",
      "6 /resizer/OEL6h-ojn42Q3E5MClajCB1d8VQ=/360x225/cloudfront-eu-central-1.images.arcpublishing.com/leparisien/RECUWGOAYVFNFOWEDBLUJT4SIQ.jpg\n",
      "7 /resizer/8P2T3_vJcybra7qhmCJM23Ui4cY=/360x225/cloudfront-eu-central-1.images.arcpublishing.com/leparisien/SJJG47XARFERXPBFQX7CSXWIP4.jpg\n",
      "8 /resizer/hS8OZNZ8t9CfRLIqFE8VMiQR5dQ=/360x225/cloudfront-eu-central-1.images.arcpublishing.com/leparisien/KMSWD3EZEZCNPICWAXIVKYL5RE.jpg\n",
      "9 /resizer/dARrdX_Cbez6RLWiRCEU6IKPKXI=/360x225/cloudfront-eu-central-1.images.arcpublishing.com/leparisien/TPBHTNGKENEIRDDSCHHO2WJNQI.jpg\n",
      "10 /resizer/tj9PAld9dZ6wH5o9iKwbZt3LhwQ=/360x225/cloudfront-eu-central-1.images.arcpublishing.com/leparisien/BVDQPX7UQRCB3KKZOIUFDUOYJ4.jpg\n",
      "11 /resizer/jhc_jl29mvU2mCz7X6O7yVaVq9I=/360x225/cloudfront-eu-central-1.images.arcpublishing.com/leparisien/KBE4DZ33IBDLXNWA6GAV7QS244.jpg\n",
      "12 /resizer/ag5en0CjCTD_51_L40QgtkNxpds=/360x225/cloudfront-eu-central-1.images.arcpublishing.com/leparisien/JPHY3UGZQVAMTCORVCHDRKBGJA.jpg\n",
      "13 /resizer/24Po-AJ5lrv1xx_Ot5i8c6fPuQo=/360x225/cloudfront-eu-central-1.images.arcpublishing.com/leparisien/7DRP3YD4ARCEXCQZJXA423HFRA.jpg\n",
      "14 /resizer/jrJJfoKazucY9gIJRkca1gBa-DE=/360x225/cloudfront-eu-central-1.images.arcpublishing.com/leparisien/T2WQVX3WJZFXBI2KYH6N7GW4FM.jpg\n",
      "15 /resizer/Aq58IYUpVYpXWKTVSl_8kjDY554=/360x225/cloudfront-eu-central-1.images.arcpublishing.com/leparisien/VPMHLJOK6VGO7H7K3PJVH5NU7A.jpg\n",
      "16 /resizer/QCV1GpMMiY3Yj5StSkyRHtSk0BU=/360x225/cloudfront-eu-central-1.images.arcpublishing.com/leparisien/ZYVOA57FZ5F75G72EARV6VDAVE.jpg\n",
      "17 /resizer/mYHqo8kNBKqmTCrPv2zCuiaCVA0=/300x190/cloudfront-eu-central-1.images.arcpublishing.com/lpguideshopping/MUY35CV4VFAOXEXWMMQTWMDV5Q.jpg\n",
      "18 https://media.paruvendu.fr/media_ext/_https_/photos.ubiflow.net/ae/df/Lzc3MzE5OC8zNDk0NTA5ODAvcGhvdG9zLzEuanBnP1BBUlVfVkVORFVfQVVUT19TVERfNDA5MDgxNjM1OA_sizecrop_80x60?2022070609\n",
      "19 https://media.paruvendu.fr/media_ext/_https_/photos.ubiflow.net/d8/f1/Lzc3MzE5OC8zNDg5NzA1ODcvcGhvdG9zLzEuanBnP1BBUlVfVkVORFVfQVVUT19TVERfNDA5MDgxNjM1OA_sizecrop_80x60?2022070609\n",
      "20 https://media.paruvendu.fr/media_ext/_https_/photos.ubiflow.net/5d/5f/Lzc1NTMxOS8zNDk5OTA1MjQvcGhvdG9zLzEuanBnP1BBUlVfVkVORFVfQVVUT19TVERfNDA5MDgxNjM1OA_sizecrop_80x60?2022070609\n",
      "21 https://media.paruvendu.fr/media_ext/_https_/photos.ubiflow.net/96/48/Lzc1NTMxOS8zNTAwMDQ4MjgvcGhvdG9zLzEuanBnP1BBUlVfVkVORFVfQVVUT19TVERfNDA5MDgxNjM1OA_sizecrop_80x60?2022070609\n",
      "22 https://media.paruvendu.fr/media_ext/_https_/photos.ubiflow.net/ed/81/Lzc3Mjc0Ny8zNDk5OTA5OTgvcGhvdG9zLzEuanBnP1BBUlVfVkVORFVfQVVUT19TVERfNDA5MDgxNjM1OA_sizecrop_80x60?2022070609\n",
      "23 /pf/resources/images/footer_img_abo_desktop.png?d=443\n",
      "24 /pf/resources/images/footer_img_abo_tablet.png?d=443\n",
      "None\n"
     ]
    }
   ],
   "source": [
    "print(imagedown(lien_article))"
   ]
  },
  {
   "cell_type": "code",
   "execution_count": 17,
   "id": "a2d4fe89",
   "metadata": {},
   "outputs": [],
   "source": [
    "def title_paris():\n",
    "  for title in html_soup.find_all('title'):\n",
    "      return(title.get_text())\n",
    "\n",
    "def date_paris():\n",
    "  headlines = html_soup.find_all('div',{'class':'timestamp'})\n",
    "  len(headlines)\n",
    "  for i in range(len(headlines)):\n",
    "      return(headlines[i].text)\n",
    "\n",
    "def dep_paris():\n",
    "  headlines_dep = html_soup.find_all('a',{'class':'tag_breadcrumb'})\n",
    "  len(headlines_dep)\n",
    "  for i in range(len(headlines_dep)):\n",
    "      return(headlines_dep[i].text)\n",
    "\n",
    "def txt_paris():\n",
    "  headlines_txt = html_soup.find_all('h2')\n",
    "  len(headlines_txt)\n",
    "  for i in range(len(headlines_txt)):\n",
    "    return(headlines_txt[i].text)\n",
    "\n",
    "\n",
    "\n",
    "def title_glo_paris():\n",
    "    page = get(lien_article)\n",
    "    html_soup = BeautifulSoup(page.text, 'html.parser')\n",
    "    titre =  title_paris()\n",
    "    date = date_paris()\n",
    "    departement = dep_paris()\n",
    "    texte = txt_paris()\n",
    "    #image = imagedown(lien_article)\n",
    "    return titre,date,departement,texte\n",
    "\n"
   ]
  },
  {
   "cell_type": "code",
   "execution_count": 18,
   "id": "5b73717d",
   "metadata": {},
   "outputs": [
    {
     "name": "stdout",
     "output_type": "stream",
     "text": [
      "('Le faux gendarme multipliait les victimes dans toute la France grâce à ses arnaques téléphoniques - Le Parisien', 'Le 29 juin 2022 à 16h06', 'Seine-et-Marne', 'Cet homme de 39 ans, jugé par le tribunal correctionnel de Melun (Seine-et-Marne), manipulait des personnes en leur disant que leur compte avait été piraté et qu’il fallait sécuriser leurs avoirs en les transférant sur... son propre compte ! Il a écopé de trois ans de prison ferme, sans compter la révocation d’un ancien sursis. ')\n"
     ]
    }
   ],
   "source": [
    "print(title_glo_paris())"
   ]
  },
  {
   "cell_type": "code",
   "execution_count": null,
   "id": "7dacc30a",
   "metadata": {},
   "outputs": [],
   "source": []
  },
  {
   "cell_type": "markdown",
   "id": "33d5ae09",
   "metadata": {},
   "source": [
    "# Sud-Ouest"
   ]
  },
  {
   "cell_type": "code",
   "execution_count": 19,
   "id": "b5683024",
   "metadata": {},
   "outputs": [],
   "source": [
    "link_to_scrape = \"https://www.sudouest.fr/\"\n",
    "lien_article = \"https://www.sudouest.fr/landes/mont-de-marsan/mont-de-marsan-l-artiste-valerie-puel-expose-ses-oeuvres-a-la-mairie-10753648.php\""
   ]
  },
  {
   "cell_type": "code",
   "execution_count": 20,
   "id": "5243edcc",
   "metadata": {},
   "outputs": [],
   "source": [
    "page = get(lien_article)\n",
    "html_soup = BeautifulSoup(page.text, 'html.parser')"
   ]
  },
  {
   "cell_type": "code",
   "execution_count": 21,
   "id": "117881c7",
   "metadata": {},
   "outputs": [],
   "source": [
    "def title_sudouest():\n",
    "  for title in html_soup.find_all('title'):\n",
    "      print(title.get_text())\n",
    "\n",
    "def date_sudouest():\n",
    "  headlines = html_soup.find_all('time')\n",
    "  len(headlines)\n",
    "  for i in range(len(headlines)):\n",
    "      print(headlines[i].text)\n",
    "\n",
    "def dep_sudouest():\n",
    "  headlines_dep = html_soup.find_all('a',{'class':'article-topic'})\n",
    "  len(headlines_dep)\n",
    "  for i in range(len(headlines_dep)):\n",
    "    print(headlines_dep[i].text)\n",
    "    \n",
    "def txt_sudouest():\n",
    "  headlines_txt = html_soup.find_all('div',{'class': 'full-content'})\n",
    "  len(headlines_txt)\n",
    "  for i in range(len(headlines_txt)):\n",
    "    return(headlines_txt[i].text)\n",
    "\n",
    "    \n",
    "def image_sudouest(lien_article):\n",
    "\n",
    "    headlines_img = html_soup.find_all('img')\n",
    "\n",
    "    image_stokage = []\n",
    "\n",
    "    for i, headlines_img in enumerate(headlines_img):\n",
    "        image_url = headlines_img['src']\n",
    "        response =  requests.get(link_to_scrape + image_url) #pour avoir le www.leparisien.fr\n",
    "        print(i,image_url )\n",
    "        image_stokage = image_url\n",
    "        with open(str(i) + '.jpg', 'wb') as f:\n",
    "            for chunk in response.iter_content(chunk_size=128):\n",
    "                f.write(chunk)\n",
    "\n",
    "#---------------------------------------------------------------------------------------------------\n",
    "\n",
    "def title_glo_sudouest(lien_article):\n",
    "    page = get(lien_article)\n",
    "    html_soup = BeautifulSoup(page.text, 'html.parser')\n",
    "    titre =  title_sudouest()\n",
    "    date = date_sudouest()\n",
    "    departement = dep_sudouest()\n",
    "    text = txt_sudouest()\n",
    "    images = image_sudouest(lien_article)\n",
    "    return titre,date,departement,text, images\n"
   ]
  },
  {
   "cell_type": "code",
   "execution_count": 22,
   "id": "17b49b5c",
   "metadata": {},
   "outputs": [
    {
     "name": "stdout",
     "output_type": "stream",
     "text": [
      "None\n"
     ]
    }
   ],
   "source": [
    "print(imagedown(lien_article))"
   ]
  },
  {
   "cell_type": "code",
   "execution_count": 23,
   "id": "5e5a3002",
   "metadata": {},
   "outputs": [
    {
     "name": "stdout",
     "output_type": "stream",
     "text": [
      "Mont-de-Marsan : l’artiste Valérie Puel expose ses œuvres à la mairie\n",
      "Publié le 30/04/2022 à 17h53\n",
      "Accueil\n",
      "Landes\n",
      "Mont-De-Marsan\n",
      "0 https://media.sudouest.fr/10753648/1000x500/mont-de-marsanetpaysmontois-22260a9b3cfe49ba8ff1b422eb123b04-140326-ph0.jpg?v=1651333999\n",
      "1 https://assets.sudouest.fr/img/unes/small.jpg\n",
      "2 https://media.sudouest.fr/assets/img/autopromo/320_Appli_testeurs.png\n",
      "3 https://media.sudouest.fr/assets/img/autopromo/Banniere_TV7_300X250.jpg\n",
      "4 \n",
      "(None, None, None, '\\nJusqu’au 31\\xa0juillet, les usagers de la maire de Mont-de-Marsan et leurs employés pourront découvrir le travail de Valérie Puel. Depuis le deuxième confinement, en octobre 2020, cette artiste peintre locale donne libre cours à sa créativité, qui s’exprime dans l’art abstrait, figuratif et contemporain.\\n', None)\n"
     ]
    }
   ],
   "source": [
    "print(title_glo_sudouest(lien_article))"
   ]
  },
  {
   "cell_type": "markdown",
   "id": "de65d8ae",
   "metadata": {},
   "source": [
    "# Est républicain"
   ]
  },
  {
   "cell_type": "code",
   "execution_count": 24,
   "id": "328cb648",
   "metadata": {},
   "outputs": [],
   "source": [
    "link_to_scrape = \"https://www.estrepublicain.fr/\"\n",
    "lien_article = \"https://www.estrepublicain.fr/politique/2022/06/21/conseil-municipal-relevage-de-tombes-au-cimetiere\"\n"
   ]
  },
  {
   "cell_type": "code",
   "execution_count": 25,
   "id": "703a8e72",
   "metadata": {},
   "outputs": [],
   "source": [
    "from requests import get\n",
    "page = get(lien_article)\n",
    "\n",
    "html_soup = BeautifulSoup(page.text, 'html.parser')"
   ]
  },
  {
   "cell_type": "code",
   "execution_count": 28,
   "id": "3715ccdc",
   "metadata": {},
   "outputs": [],
   "source": [
    "def title_est1():\n",
    "  for title in html_soup.find_all('title'):\n",
    "      print(title.get_text())\n",
    "\n",
    "def date_est():\n",
    "  for date in html_soup.find_all('span',{'class':'publish'}):\n",
    "    print(date.get_text())\n",
    "\n",
    "def txt_est():\n",
    "  headlines_txt = html_soup.find_all('p',{'class': 'chapo'})\n",
    "  len(headlines_txt)\n",
    "  for i in range(len(headlines_txt)):\n",
    "    return(headlines_txt[i].text)\n",
    "\n",
    "def image_est(lien_article):\n",
    "    headlines_img = html_soup.find_all('img')\n",
    "    image_stokage = []\n",
    "\n",
    "    for i, headlines_img in enumerate(headlines_img):\n",
    "        image_url = headlines_img['src']\n",
    "        response =  requests.get(link_to_scrape + image_url) #pour avoir le www.leparisien.fr\n",
    "        print(i,image_url )\n",
    "        image_stokage = image_url\n",
    "        with open(str(i) + '.jpg', 'wb') as f:\n",
    "            for chunk in response.iter_content(chunk_size=128):\n",
    "                f.write(chunk)\n",
    "\n",
    "    \n",
    "#---------------------------------------------------------------------------------------------------\n",
    "\n",
    "def title_glo_est(lien_article):\n",
    "    page = get(lien_article)\n",
    "    html_soup = BeautifulSoup(page.text, 'html.parser')\n",
    "    titre =  title_est1()\n",
    "    date = date_est()\n",
    "    text = txt_est()\n",
    "    images = image_est(lien_article)\n",
    "    print( titre,date, text,images)\n"
   ]
  },
  {
   "cell_type": "code",
   "execution_count": 29,
   "id": "f5b5ce3f",
   "metadata": {},
   "outputs": [
    {
     "name": "stdout",
     "output_type": "stream",
     "text": [
      "Leyr. Conseil municipal : relevage de tombes au cimetière\n",
      "\n",
      "          21 juin 2022 à 19:27\n",
      "    \n",
      "        - Temps de lecture : \n",
      "\n",
      "0 https://cdn-files.prsmedia.fr/files/REDAC/images/devicelimit-img.png\n",
      "1 data:image/gif;base64,R0lGODlhAQABAAAAACH5BAEKAAEALAAAAAABAAEAAAICTAEAOw==\n",
      "2 /liseuse/54B/20220706/JNU_04/i-1657069566.jpg\n",
      "3 data:image/gif;base64,R0lGODlhAQABAAAAACH5BAEKAAEALAAAAAABAAEAAAICTAEAOw==\n",
      "4 /liseuse/54B/20220706/JNU_04/i-1657069566.jpg\n",
      "5 \n",
      "6 data:image/gif;base64,R0lGODlhAQABAAAAACH5BAEKAAEALAAAAAABAAEAAAICTAEAOw==\n",
      "7 https://cdn-files.prsmedia.fr/files/REDAC/min/images/logo_ojd.png\n",
      "8 data:image/gif;base64,R0lGODlhAQABAAAAACH5BAEKAAEALAAAAAABAAEAAAICTAEAOw==\n",
      "9 https://cdn-files.prsmedia.fr/files/REDAC/min/images/logo_adtrust.png\n",
      "None None None None\n"
     ]
    }
   ],
   "source": [
    "title_glo_est(lien_article)"
   ]
  },
  {
   "cell_type": "markdown",
   "id": "115083d2",
   "metadata": {},
   "source": [
    "# La voix du nord"
   ]
  },
  {
   "cell_type": "code",
   "execution_count": 21,
   "id": "2ca03ae5",
   "metadata": {},
   "outputs": [],
   "source": [
    "link_to_scrape = \"https://www.lavoixdunord.fr/\"\n",
    "lien_article = 'https://www.lavoixdunord.fr/region/armentieres-et-ses-environs/frelinghien'"
   ]
  },
  {
   "cell_type": "code",
   "execution_count": 22,
   "id": "c59f41f1",
   "metadata": {},
   "outputs": [],
   "source": [
    "from requests import get\n",
    "page = get(lien_article)\n",
    "\n",
    "html_soup = BeautifulSoup(page.text, 'html.parser')"
   ]
  },
  {
   "cell_type": "code",
   "execution_count": 27,
   "id": "38d3f5f5",
   "metadata": {},
   "outputs": [],
   "source": [
    "def title_voixnord():\n",
    "  for title in html_soup.find_all('title'):\n",
    "      print(title.get_text())\n",
    "\n",
    "def date_voixnord():\n",
    "  headlines = html_soup.find_all('time')\n",
    "  len(headlines)\n",
    "  for i in range(len(headlines)):\n",
    "      return(headlines[i].text)\n",
    "\n",
    "def dep_voixnord():\n",
    "  headlines_dep = html_soup.find_all('a',{'class':'r-menu'})\n",
    "  len(headlines_dep)\n",
    "  for i in range(len(headlines_dep)):\n",
    "    print(headlines_dep[i].text)\n",
    "    \n",
    "def txt_voixnord():\n",
    "  headlines_dep = html_soup.find_all('r-article')\n",
    "  len(headlines_dep)\n",
    "  for i in range(len(headlines_dep)):\n",
    "    print(headlines_dep[i].text)\n",
    "    \n",
    "def imagedown_voixnord(lien_article):\n",
    "\n",
    "    headlines_img = html_soup.find_all('img')\n",
    "\n",
    "    image_stokage = []\n",
    "\n",
    "    for i, headlines_img in enumerate(headlines_img):\n",
    "        image_url = headlines_img['src']\n",
    "        response =  requests.get(link_to_scrape + image_url) #pour avoir le www.leparisien.fr\n",
    "        print(i,image_url )\n",
    "        image_stokage = image_url\n",
    "        with open(str(i) + '.jpg', 'wb') as f:\n",
    "            for chunk in response.iter_content(chunk_size=128):\n",
    "                f.write(chunk)\n",
    "\n",
    "#---------------------------------------------------------------------------------------------------\n",
    "\n",
    "def title_glo_voixnord(lien_article):\n",
    "    page = get(lien_article)\n",
    "    html_soup = BeautifulSoup(page.text, 'html.parser')\n",
    "    titre =  title_voixnord()\n",
    "    date = date_voixnord()\n",
    "    departement = dep_voixnord()\n",
    "    text = txt_voixnord\n",
    "    images = imagedown_voixnord(lien_article)\n",
    "    return titre,date,departement, text, images\n"
   ]
  },
  {
   "cell_type": "code",
   "execution_count": 28,
   "id": "e489adca",
   "metadata": {
    "scrolled": true
   },
   "outputs": [
    {
     "name": "stdout",
     "output_type": "stream",
     "text": [
      "Frelinghien (59236, Nord) - La Voix du Nord\n",
      "0 https://lvdneng.rosselcdn.net/sites/default/files/dpistyles_v2/vdn_648w/2022/07/04/node_1201403/55482307/public/2022/07/04/B9731417601Z.1_20220704110906_000%2BG0LKQUPSP.2-0.jpg?itok=aojEwLH41656925757\n",
      "1 https://lvdneng.rosselcdn.net/sites/all/themes/enabootstrap/images/placeholder.png\n",
      "2 https://lvdneng.rosselcdn.net/sites/default/files/dpistyles_v2/vdn_648w/2022/07/02/node_1200939/55475553/public/2022/07/02/B9731385813Z.1_20220702114045_000%2BGJ9KQ9Q3O.1-0.jpg?itok=PMBQ3SLy1656756198\n",
      "3 https://lvdneng.rosselcdn.net/sites/all/themes/enabootstrap/images/placeholder.png\n",
      "4 https://lvdneng.rosselcdn.net/sites/default/files/dpistyles_v2/vdn_648w/2022/06/29/node_1199658/55474479/public/2022/06/29/B9731303545Z.1_20220629172033_000%2BGLIKON5LT.2-0.jpg?itok=kAwP0GAJ1656518499\n",
      "5 https://lvdneng.rosselcdn.net/sites/all/themes/enabootstrap/images/placeholder.png\n",
      "6 https://lvdneng.rosselcdn.net/sites/default/files/dpistyles_v2/vdn_648w/2022/06/26/node_1198284/55468023/public/2022/06/26/B9731345176Z.1_20220626144349_000%2BGTUKPATV9.3-0.jpg?itok=li61ElfS1656247439\n",
      "7 https://lvdneng.rosselcdn.net/sites/all/themes/enabootstrap/images/placeholder.png\n",
      "8 https://lvdneng.rosselcdn.net/sites/default/files/dpistyles_v2/vdn_648w/2022/06/24/node_1197345/55463966/public/2022/06/24/B9731322044Z.1_20220624115823_000%2BGG3KOSBBI.2-0.jpg?itok=A8ykTBpj1656079850\n",
      "9 https://lvdneng.rosselcdn.net/sites/all/themes/enabootstrap/images/placeholder.png\n",
      "10 https://lvdneng.rosselcdn.net/sites/default/files/dpistyles_v2/vdn_648w/2022/06/21/node_1196061/55456518/public/2022/06/21/B9731261383Z.1_20220621153221_000%2BGVAKO5UQM.1-0.jpg?itok=w2U1FxQb1655882878\n",
      "11 https://lvdneng.rosselcdn.net/sites/all/themes/enabootstrap/images/placeholder.png\n",
      "12 https://lvdneng.rosselcdn.net/sites/default/files/dpistyles_v2/vdn_648w/2022/06/19/node_1195338/55454978/public/2022/06/19/B9731278803Z.1_20220619233552_000%2BGVFKNVSFL.3-0.jpg?itok=aCtBEYAK1655715973\n",
      "13 https://lvdneng.rosselcdn.net/sites/all/themes/enabootstrap/images/placeholder.png\n",
      "14 https://lvdneng.rosselcdn.net/sites/default/files/dpistyles_v2/vdn_648w/2021/12/22/node_1195209/55454389/public/2021/12/22/B9729425762Z.1_20211222005210_000%2BGMPJJ291I.1-0.jpg?itok=yq0LUCji1655664164\n",
      "15 https://lvdneng.rosselcdn.net/sites/all/themes/enabootstrap/images/placeholder.png\n",
      "16 https://lvdneng.rosselcdn.net/sites/default/files/dpistyles_v2/vdn_648w/2022/06/17/node_1194421/55450566/public/2022/06/17/B9731236271Z.1_20220617165214_000%2BG1TKN4L8J.1-0.jpg?itok=L2D2CqZu1655477619\n",
      "17 https://lvdneng.rosselcdn.net/sites/all/themes/enabootstrap/images/placeholder.png\n",
      "18 https://lvdneng.rosselcdn.net/sites/default/files/dpistyles_v2/vdn_648w/2022/06/16/node_1193898/55448750/public/2022/06/16/B9731242152Z.1_20220616165135_000%2BG31KN9BJM.2-0.jpg?itok=BDBxxQ3y1655391102\n",
      "19 https://lvdneng.rosselcdn.net/sites/all/themes/enabootstrap/images/placeholder.png\n",
      "20 https://lvdneng.rosselcdn.net/sites/default/files/dpistyles_v2/vdn_648w/2022/06/14/node_1192829/55443436/public/2022/06/14/B9731149440Z.1_20220614105100_000%2BGOPKLI405.2-0.jpg?itok=qXBiuoOX1655196667\n",
      "21 https://lvdneng.rosselcdn.net/sites/all/themes/enabootstrap/images/placeholder.png\n",
      "22 https://lvdneng.rosselcdn.net/sites/default/files/dpistyles_v2/vdn_648w/2022/06/08/node_1190182/55427836/public/2022/06/08/B9731145612Z.1_20220608101001_000%2BGJ5KLDKQ2.1-0.jpg?itok=z1lBBQ4L1654675870\n",
      "23 https://lvdneng.rosselcdn.net/sites/all/themes/enabootstrap/images/placeholder.png\n",
      "24 https://lvdneng.rosselcdn.net/sites/default/files/dpistyles_v2/vdn_648w/2022/06/05/node_1189099/55423305/public/2022/06/05/B9731125293Z.1_20220605115919_000%2BG96KL1OQS.1-0.jpg?itok=mU3rl9ks1654423168\n",
      "25 https://lvdneng.rosselcdn.net/sites/all/themes/enabootstrap/images/placeholder.png\n",
      "26 https://lvdneng.rosselcdn.net/sites/default/files/dpistyles_v2/vdn_648w/2022/06/02/node_1187939/55417335/public/2022/06/02/B9731106336Z.1_20220602171338_000%2BG4IKKHTC0.2-0.jpg?itok=Q_tB_B7z1654182824\n",
      "27 https://lvdneng.rosselcdn.net/sites/all/themes/enabootstrap/images/placeholder.png\n",
      "28 https://lvdneng.rosselcdn.net/sites/default/files/dpistyles_v2/vdn_648w/2022/06/02/node_1187812/55416711/public/2022/06/02/B9731101935Z.1_20220602142408_000%2BGNJKKF24H.2-0.jpg?itok=YCydMBG41654172655\n",
      "29 https://lvdneng.rosselcdn.net/sites/all/themes/enabootstrap/images/placeholder.png\n",
      "30 https://lvdneng.rosselcdn.net/sites/default/files/dpistyles_v2/vdn_648w/2022/05/20/node_1182501/55392046/public/2022/05/20/B9730929852Z.1_20220520164618_000%2BGBRKHKKUN.1-0.jpg?itok=pNNrnzb01653065067\n",
      "31 https://lvdneng.rosselcdn.net/sites/all/themes/enabootstrap/images/placeholder.png\n",
      "32 https://lvdneng.rosselcdn.net/sites/default/files/dpistyles_v2/vdn_648w/2022/05/20/node_1182115/55390448/public/2022/05/20/B9730965223Z.1_20220520114328_000%2BGASKHEIJN.3-0.jpg?itok=4J0cWrNc1653039814\n",
      "33 https://lvdneng.rosselcdn.net/sites/all/themes/enabootstrap/images/placeholder.png\n",
      "34 https://lvdneng.rosselcdn.net/sites/default/files/dpistyles_v2/vdn_648w/2022/05/19/node_1182028/55388761/public/2022/05/19/B9730954904Z.1_20220519184629_000%2BG9BKGUCTG.1-0.jpg?itok=8kitrtf31652978797\n",
      "35 https://lvdneng.rosselcdn.net/sites/all/themes/enabootstrap/images/placeholder.png\n",
      "36 https://lvdneng.rosselcdn.net/sites/default/files/dpistyles_v2/vdn_648w/2022/05/15/node_1179629/55381479/public/2022/05/15/B9730862687Z.1_20220515133518_000%2BGU3KF8SSS.2-0.jpg?itok=ETYnaXvo1652648636\n",
      "37 https://lvdneng.rosselcdn.net/sites/all/themes/enabootstrap/images/placeholder.png\n",
      "38 https://lvdneng.rosselcdn.net/sites/default/files/dpistyles_v2/vdn_648w/2022/05/05/node_1175345/55332919/public/2022/05/05/B9730803196Z.1_20220505163508_000%2BGE4KE7L5D.4-0.jpg?itok=CSNQwPAa1651913587\n",
      "39 https://lvdneng.rosselcdn.net/sites/all/themes/enabootstrap/images/placeholder.png\n",
      "40 https://lvdneng.rosselcdn.net/sites/default/files/dpistyles_v2/vdn_648w/2022/04/30/node_1173386/55321863/public/2022/04/30/B9730765167Z.1_20220430181107_000%2BG8NKDBOFB.2-0.jpg?itok=yVNpZLOd1651335116\n",
      "41 https://lvdneng.rosselcdn.net/sites/all/themes/enabootstrap/images/placeholder.png\n",
      "42 https://lvdneng.rosselcdn.net/sites/default/files/dpistyles_v2/vdn_648w/2022/04/30/node_1173385/55321857/public/2022/04/30/B9730764238Z.1_20220430181135_000%2BG8NKDBNJI.2-0.jpg?itok=Jo5yk0Cm1651335106\n",
      "43 https://lvdneng.rosselcdn.net/sites/all/themes/enabootstrap/images/placeholder.png\n",
      "44 https://lvdneng.rosselcdn.net/sites/default/files/dpistyles_v2/vdn_648w/2022/05/01/node_1173327/55322708/public/2022/05/01/B9730753143Z.1_20220501094354_000%2BG4IKD07UG.2-0.jpg?itok=UF7CRYK71651391041\n",
      "45 https://lvdneng.rosselcdn.net/sites/all/themes/enabootstrap/images/placeholder.png\n",
      "46 https://lvdneng.rosselcdn.net/sites/default/files/dpistyles_v2/vdn_648w/2022/04/26/node_1171527/55307068/public/2022/04/26/B9730681721Z.1_20220426125600_000%2BGKJKC9O8T.2-0.jpg?itok=7WdRjmXA1650970567\n",
      "47 https://lvdneng.rosselcdn.net/sites/all/themes/enabootstrap/images/placeholder.png\n",
      "48 https://lvdneng.rosselcdn.net/sites/default/files/dpistyles_v2/vdn_648w/2022/04/26/node_1171526/55307063/public/2022/04/26/B9730675235Z.1_20220426125451_000%2BGNOKBLVTL.2-0.jpg?itok=WzJllQ0p1650971842\n",
      "49 https://lvdneng.rosselcdn.net/sites/all/themes/enabootstrap/images/placeholder.png\n",
      "50 https://lvdneng.rosselcdn.net/sites/default/files/dpistyles_v2/vdn_648w/2022/04/23/node_1170392/55295650/public/2022/04/23/B9730689029Z.1_20220423171805_000%2BGN9KBRR26.2-0.jpg?itok=t6OSX0Hj1650728967\n",
      "51 https://lvdneng.rosselcdn.net/sites/all/themes/enabootstrap/images/placeholder.png\n",
      "52 https://lvdneng.rosselcdn.net/sites/default/files/dpistyles_v2/vdn_648w/2022/04/21/node_1169436/55284592/public/2022/04/21/B9730658551Z.1_20220421114124_000%2BG5RKBA3CG.2-0.jpg?itok=V7Vx3I9c1650542258\n",
      "53 https://lvdneng.rosselcdn.net/sites/all/themes/enabootstrap/images/placeholder.png\n",
      "54 https://lvdneng.rosselcdn.net/sites/default/files/dpistyles_v2/vdn_648w/2022/04/20/node_1169054/55278687/public/2022/04/20/B9730651735Z.1_20220420115633_000%2BGESKB6LMN.2-0.jpg?itok=mkNDCgmv1650448600\n",
      "55 https://lvdneng.rosselcdn.net/sites/all/themes/enabootstrap/images/placeholder.png\n",
      "56 https://lvdneng.rosselcdn.net/sites/default/files/dpistyles_v2/vdn_648w/2022/04/08/node_1164084/55238670/public/2022/04/08/B9730541569Z.1_20220408173233_000%2BGQ8K90P3V.1-0.jpg?itok=DiNT2ekI1649431960\n",
      "57 https://lvdneng.rosselcdn.net/sites/all/themes/enabootstrap/images/placeholder.png\n"
     ]
    },
    {
     "name": "stdout",
     "output_type": "stream",
     "text": [
      "58 https://lvdneng.rosselcdn.net/sites/default/files/dpistyles_v2/vdn_648w/2022/04/08/node_1164078/55238159/public/2022/04/08/B9730534719Z.1_20220408172633_000%2BGAUK8VP5C.1-0.jpg?itok=S4M9xrZi1649432590\n",
      "59 https://lvdneng.rosselcdn.net/sites/all/themes/enabootstrap/images/placeholder.png\n",
      "60 https://lvdneng.rosselcdn.net/sites/default/files/dpistyles_v2/vdn_648w/2022/03/31/node_1160205/55216552/public/2022/03/31/B9730443872Z.1_20220331102157_000%2BGCRK73JEG.1-0.jpg?itok=r-92qvmD1648715715\n"
     ]
    },
    {
     "data": {
      "text/plain": [
       "(None, '18h01', None, <function __main__.txt_voixnord()>, None)"
      ]
     },
     "execution_count": 28,
     "metadata": {},
     "output_type": "execute_result"
    }
   ],
   "source": [
    "title_glo_voixnord(lien_article)"
   ]
  },
  {
   "cell_type": "code",
   "execution_count": null,
   "id": "1ddad5cc",
   "metadata": {},
   "outputs": [],
   "source": []
  },
  {
   "cell_type": "markdown",
   "id": "58425878",
   "metadata": {},
   "source": [
    "# Pouvoir voir sur quel site l'article est"
   ]
  },
  {
   "cell_type": "code",
   "execution_count": 86,
   "id": "1b988040",
   "metadata": {},
   "outputs": [],
   "source": [
    "df_link = pd.read_excel(\"Sources.xlsx\",index_col=\"num_departement\")"
   ]
  },
  {
   "cell_type": "code",
   "execution_count": 87,
   "id": "78b2b7db",
   "metadata": {
    "scrolled": true
   },
   "outputs": [],
   "source": [
    "from pygooglenews import GoogleNews\n",
    "\n",
    "gn = GoogleNews(lang = 'fr', country = 'FR')\n",
    "\n",
    "def get_search(info, departement):\n",
    "  \n",
    "  stories = []\n",
    "  for site in df_link.loc[df_link.nom_departement==departement].site.values[0].split(\"\\n\"):\n",
    "    search = gn.search(info+' '+\"site:\"+site)\n",
    "    \n",
    "    for item in search['entries']:\n",
    "    #print(item)\n",
    "      story = {\n",
    "          'lien_article' : item.link,\n",
    "      }\n",
    "      stories.append(story)\n",
    "    \n",
    "  return stories\n",
    "stories = get_search('','Paris')\n"
   ]
  },
  {
   "cell_type": "code",
   "execution_count": 88,
   "id": "550ac06a",
   "metadata": {
    "scrolled": true
   },
   "outputs": [
    {
     "name": "stdout",
     "output_type": "stream",
     "text": [
      "[{'lien_article': 'https://www.leparisien.fr/paris-75/jeux-olympiques-de-paris-pour-une-seine-propre-le-tunnelier-va-commencer-a-creuser-a-austerlitz-04-07-2022-YA2ZUET3A5DM7EEELIMPKNRVG4.php'}, {'lien_article': 'https://www.leparisien.fr/paris-75/paris-proposera-bientot-des-ivg-chirurgicales-hors-les-murs-de-lhopital-04-07-2022-NMHADPY2JZCPXA25XRSA7Z7S4A.php'}, {'lien_article': 'https://www.leparisien.fr/paris-75/changement-climatique-en-ile-de-france-la-ville-la-campagne-et-la-foret-sont-deja-touches-04-07-2022-YXQQ3IFEMRCGJCHF25DHH6KRM4.php'}, {'lien_article': 'https://www.leparisien.fr/paris-75/paris-un-jeune-se-noie-dans-le-canal-de-lourcq-03-07-2022-CKU5NPAONZF4ROJ6I5OIATIEHM.php'}, {'lien_article': 'https://www.leparisien.fr/paris-75/un-homme-tue-a-coups-de-couteau-dans-le-xixe-arrondissement-de-paris-un-suspect-interpelle-03-07-2022-SLZAC2FXYFGXBFFVRFESK3LON4.php'}, {'lien_article': 'https://www.leparisien.fr/paris-75/paris-le-louvre-vous-fait-un-peu-peur-testez-le-musee-numerique-il-rend-lart-accessible-a-tous-dun-simple-clic-03-07-2022-RAZ2HSPKGVCLNDFIUKERQT6IXI.php'}, {'lien_article': 'https://www.leparisien.fr/paris-75/paris-les-boutiques-de-souvenirs-de-la-tour-eiffel-touchees-par-la-greve-03-07-2022-VPR5ZUES25A47P2VTZWCBG2B3E.php'}, {'lien_article': 'https://www.leparisien.fr/paris-75/il-y-a-une-inegalite-de-traitement-les-restaurateurs-parisiens-reclament-davantage-de-terrasses-02-07-2022-E35GCR7GPNHX5EMNEEGU7EO74E.php'}, {'lien_article': 'https://www.leparisien.fr/paris-75/paris-bureaux-logements-sociaux-commerces-de-proximite-a-quoi-ressemblera-le-futur-ex-siege-de-lap-hp-01-07-2022-ZGIB2NFX4FBT3GOLTTKFRMSD3Y.php'}, {'lien_article': 'https://www.leparisien.fr/paris-75/apres-deux-annees-de-covid-paris-plages-fait-son-retour-pour-une-edition-sans-entraves-01-07-2022-4PAALTYDARHVHL5IOT3JNP6Y34.php'}, {'lien_article': 'https://www.leparisien.fr/paris-75/ici-cest-chez-moi-lieu-de-repos-aide-sociale-a-paris-la-maison-des-coursiers-seduit-les-livreurs-et-pourrait-essaimer-01-07-2022-SZ6GFNSI5RETTAABNHDR3TJ44U.php'}, {'lien_article': 'https://www.leparisien.fr/paris-75/paris-le-fnac-live-interrompu-apres-des-mouvements-de-foule-30-06-2022-MIOGOBZJDRAYLOS2XPXYRPB4NE.php'}, {'lien_article': 'https://www.leparisien.fr/paris-75/malgre-des-propos-cautionnant-le-crime-de-son-fils-le-pere-de-lassassin-de-samuel-paty-exerce-toujours-dans-la-securite-30-06-2022-TM77U7EOTRFOTP47SI64K2BEHM.php'}, {'lien_article': 'https://www.leparisien.fr/paris-75/fini-le-ticket-de-caisse-avec-billiv-le-qr-code-prend-sa-place-30-06-2022-4QUIMIPDYRGZRKU3K6WYGF6FXQ.php'}, {'lien_article': 'https://www.leparisien.fr/paris-75/ecoles-primaires-en-ile-de-france-a-la-recherche-denseignants-contractuels-pour-combler-le-manque-de-profs-30-06-2022-CTFGYUU5PJAYVNVLK3II6DMFXA.php'}, {'lien_article': 'https://www.leparisien.fr/paris-75/meeting-de-macron-en-2017-gala-de-leonardo-dicaprio-des-policiers-payes-au-black-pour-jouer-les-agents-de-securite-30-06-2022-Q6HMUKV5GJE6LML2G3QO5ZFF6A.php'}, {'lien_article': 'https://www.leparisien.fr/paris-75/jo-2024-avec-13-agents-pour-toute-lile-de-france-comment-controler-les-societes-privees-de-securite-30-06-2022-EVLSKDZQCBFO7BXPHNXPFONEJA.php'}, {'lien_article': 'https://www.leparisien.fr/paris-75/paris-75016/paris-34-logements-sociaux-inaugures-sur-un-ancien-terrain-de-la-famille-al-assad-dans-le-xvie-arrondissement-29-06-2022-VSWEKMV7UBHXTCDIBT6GLYWLV4.php'}, {'lien_article': 'https://www.leparisien.fr/paris-75/lenfer-des-travaux-a-paris-comment-vivre-au-milieu-de-9496-chantiers-29-06-2022-7KV3T5Y3FRET3G77UKYXLA37HY.php'}, {'lien_article': 'https://www.leparisien.fr/paris-75/chaos-en-surface-belle-promesse-souterraine-lenfer-de-la-porte-maillot-sens-dessus-dessous-29-06-2022-K4KL6LQEWVB7BN2VHEWPXNKIXU.php'}, {'lien_article': 'https://www.leparisien.fr/paris-75/paris-tout-comme-les-champs-elysees-lavenue-de-la-grande-armee-veut-se-reenchanter-29-06-2022-CJ7GRYAP65GNDAPAA3G4PQSIJI.php'}, {'lien_article': 'https://www.leparisien.fr/paris-75/maintenant-tout-se-vole-sur-les-chantiers-du-grand-paris-meme-les-portes-et-fenetres-29-06-2022-4YQP3SRSEFCCBFLJWNGEBI4M5Y.php'}, {'lien_article': 'https://www.leparisien.fr/paris-75/10000-photos-accessibles-gratuitement-sur-internet-vous-replongent-dans-le-paris-du-xxe-siecle-29-06-2022-3KAFYDCDBFC7LCIDA4WEQXQ23I.php'}, {'lien_article': 'https://www.leparisien.fr/paris-75/paris-30-nouvelles-rues-aux-ecoles-verront-le-jour-durant-lete-29-06-2022-RM6USD6K45D3ZLAD3AXWSDWZPE.php'}, {'lien_article': 'https://www.leparisien.fr/paris-75/je-me-suis-dit-que-cetait-fini-pour-moi-deux-hommes-condamnes-pour-le-home-jacking-chez-le-roi-du-sentier-28-06-2022-T3IAV7HPOBBGLLJWGVTCBA7MR4.php'}, {'lien_article': 'https://www.leparisien.fr/paris-75/mis-au-ban-apres-avoir-ete-accuse-de-viol-maxime-cochard-sera-t-il-reintegre-au-parti-communiste-28-06-2022-LMDDXA3EZZDODLZVS2WJUZO37I.php'}, {'lien_article': 'https://www.leparisien.fr/paris-75/des-centaines-de-compagnons-a-pied-doeuvre-pour-sublimer-le-grand-palais-avant-les-jo-2024-28-06-2022-QAIHMB262BHJ3E4Y7NGOCMOGVI.php'}, {'lien_article': 'https://www.leparisien.fr/paris-75/a-paris-des-visites-estivales-au-tres-protege-jardin-ecologique-28-06-2022-UAO66XN2GBAEXFXYGG6TEHOTNM.php'}, {'lien_article': 'https://www.leparisien.fr/paris-75/pour-renflouer-les-caisses-de-paris-il-faut-faire-payer-davantage-les-touristes-et-les-parisiens-les-plus-aises-28-06-2022-25P4AT33NNF55JRZZGD5TKWBMU.php'}, {'lien_article': 'https://www.leparisien.fr/paris-75/notre-dame-de-paris-larchitecte-bas-smets-tres-emu-a-lidee-de-repenser-les-abords-de-la-cathedrale-27-06-2022-Z6OPIFIZWRHHPEAD6Q5R7Z4EEE.php'}, {'lien_article': 'https://www.leparisien.fr/paris-75/paris-depuis-lexpulsion-des-consommateurs-de-crack-les-riverains-reprennent-possession-des-jardins-deole-27-06-2022-Y7LR7VE3PBBPHME54TM2ZJQMQI.php'}, {'lien_article': 'https://www.leparisien.fr/paris-75/annulons-la-dette-pour-une-planete-vivable-des-militants-pour-le-climat-bloquent-lentree-du-fmi-a-paris-27-06-2022-STZC7WRK4NHWPG72AHPXS4RDSY.php'}, {'lien_article': 'https://www.leparisien.fr/paris-75/securite-en-ile-de-france-ces-drones-interdits-de-vol-que-voulait-financer-le-conseil-regional-27-06-2022-OC3CVEJKYVBKFDPEPQDU4G7B2M.php'}, {'lien_article': 'https://www.leparisien.fr/paris-75/saccageparis-avec-200-manifestants-dans-la-rue-le-mouvement-peine-a-mobiliser-hors-de-twitter-26-06-2022-AZRHYEII3FB43GJ3LK3QM7ZSSQ.php'}, {'lien_article': 'https://www.leparisien.fr/paris-75/paris-un-gendarme-hors-service-sauve-une-femme-de-la-noyade-dans-la-seine-24-06-2022-UDSWCL7V45FONBE2N2KNSWPLB4.php'}, {'lien_article': 'https://www.leparisien.fr/paris-75/paris-hotels-particuliers-en-danger-a-monceau-les-craintes-etaient-fondees-26-06-2022-FZ4PS3F2X5G35NBTMBTRBGO27Q.php'}, {'lien_article': 'https://www.leparisien.fr/paris-75/paris-une-place-pourrait-rendre-hommage-a-miss-tic-24-06-2022-SOPPRLE7GNFKDOACDTVEQ6WZ2M.php'}, {'lien_article': 'https://www.leparisien.fr/paris-75/paris-des-oeuvres-dart-contemporain-sinstallent-sous-les-ponts-de-la-seine-24-06-2022-JQQXJXRBBVG7ROJ3DISVGT3TB4.php'}, {'lien_article': 'https://www.leparisien.fr/paris-75/miss-ile-de-france-parmi-les-pretendantes-la-premiere-candidate-transgenre-23-06-2022-V4SK2XZIK5D4FGNR3EY2PCQJ4Y.php'}, {'lien_article': 'https://www.leparisien.fr/paris-75/ce-rapport-qui-pourrait-inciter-la-ville-de-paris-a-augmenter-les-tarifs-du-stationnement-residentiel-23-06-2022-NQCYS7EE5ZC25OTSLTBR3SLBTA.php'}, {'lien_article': 'https://www.leparisien.fr/paris-75/paris-la-fete-des-tuileries-de-retour-aux-tuileries-des-samedi-23-06-2022-V5IRBZ5GTBHY3BNUL55QNXRATI.php'}, {'lien_article': 'https://www.leparisien.fr/paris-75/paris-75006/poutine-dans-un-bac-a-sable-la-surprise-signee-colomina-au-jardin-du-luxembourg-23-06-2022-EI4OLHDYCNFB7E3QGS72T7PE4U.php'}, {'lien_article': 'https://www.leparisien.fr/paris-75/garder-ou-non-la-facade-a-paris-lavenir-de-la-synagogue-copernic-va-se-jouer-devant-la-cour-administrative-dappel-23-06-2022-RXV3AIS2ERFHZJZ4VHETHTFQGE.php'}, {'lien_article': 'https://www.leparisien.fr/paris-75/le-gouvernement-fait-de-la-demagogie-annonces-contre-annonces-a-paris-limpossible-deploiement-du-plan-crack-23-06-2022-3NOH4HER6BCFBN63KGSU2ZCRRM.php'}, {'lien_article': 'https://www.leparisien.fr/paris-75/agressions-sexuelles-viols-lampleur-du-phenomene-etonne-a-agroparistech-apres-une-enquete-interne-22-06-2022-BINZ7BAVKBDVZMG4LVED5QI6G4.php'}, {'lien_article': 'https://www.leparisien.fr/paris-75/paris-75019/paris-un-campement-de-360-migrants-evacue-pres-de-la-porte-de-pantin-22-06-2022-XDWYUBBZIZDX5AGAQOS7RL3SKQ.php'}, {'lien_article': 'https://www.leparisien.fr/paris-75/apres-les-legislatives-le-rn-retrouve-des-ambitions-en-ile-de-france-22-06-2022-GFATKDU3FVAMFAXR3MT76QONQY.php'}, {'lien_article': 'https://www.leparisien.fr/paris-75/paris-le-chauffeur-vtc-avait-renverse-un-policier-en-trottinette-22-06-2022-RX7DPVJ6ORG4LPHR2GUEIKQ6WU.php'}, {'lien_article': 'https://www.leparisien.fr/paris-75/legislatives-cinq-cartes-pour-comprendre-le-second-tour-a-paris-20-06-2022-VCHLX25IJRFHHJT6SH2HEXWK4Q.php'}, {'lien_article': 'https://www.leparisien.fr/paris-75/avec-le-retour-des-touristes-paris-intensifie-la-chasse-aux-locations-de-meubles-illegaux-21-06-2022-ZNULYGAI2RGGTGB2QWCSUVF34Y.php'}, {'lien_article': 'https://www.leparisien.fr/paris-75/fontaine-wallace-bancs-davioud-la-rue-du-temple-transformee-en-carte-postale-du-nouveau-paris-21-06-2022-5Z5RRVFWN5GOBIJHKQMGP63TOE.php'}, {'lien_article': 'https://www.leparisien.fr/paris-75/paris-le-superviseur-du-point-de-deal-aux-500-clients-par-jour-remis-en-liberte-21-06-2022-UJVGFVNIVJFAPF6ZIH77GPP6LE.php'}, {'lien_article': 'https://www.leparisien.fr/paris-75/danielle-simonnet-en-rouge-et-noir-pour-son-entree-a-lassemblee-nationale-20-06-2022-E5GHUEL5KJCERAK5I6APRVNCPE.php'}, {'lien_article': 'https://www.leparisien.fr/paris-75/paris-violences-conjugales-et-sexuelles-cambriolages-ce-que-revelent-les-chiffres-de-la-delinquance-20-06-2022-YIWWCLQ5D5FIVA675VNLSVNK44.php'}, {'lien_article': 'https://www.leparisien.fr/paris-75/paris-anne-hidalgo-perd-un-adjoint-mais-veut-prendre-son-temps-pour-remanier-20-06-2022-YLZ2ASNS7RC57NCRBKIW7Q44QA.php'}, {'lien_article': 'https://www.leparisien.fr/paris-75/a-paris-des-petits-entrepots-en-lattes-de-bois-pour-assurer-le-dernier-kilometre-de-livraison-a-velo-20-06-2022-KJYMMMGIQBGVZDPRAIN35HXFNE.php'}, {'lien_article': 'https://www.leparisien.fr/paris-75/en-ile-de-france-grand-chelem-pour-melenchon-en-seine-saint-denis-mais-les-candidats-macronistes-resistent-19-06-2022-KU4CYP4HKRHMZKKLOGFOLKCWW4.php'}, {'lien_article': 'https://www.leparisien.fr/paris-75/paris-apres-un-refus-dobtemperer-un-automobiliste-percute-violemment-un-pont-pres-de-notre-dame-19-06-2022-RO64IRXRSBGMXOJZPFWF72W5BE.php'}, {'lien_article': 'https://www.leparisien.fr/paris-75/canicule-a-paris-les-images-impressionnantes-daquaboulevard-pris-dassaut-18-06-2022-PEMFBX52VVBWHJOS3NTZLGTPUA.php'}, {'lien_article': 'https://www.leparisien.fr/paris-75/paris-cest-desormais-officiel-le-ministere-de-la-sante-annule-le-projet-de-centre-de-soins-pour-toxicomanes-17-06-2022-ZKWVTHJUAFBPHCHTBOHYKAR7FU.php'}, {'lien_article': 'https://www.leparisien.fr/paris-75/face-au-changement-climatique-paris-mise-sur-le-confort-dete-grace-a-la-rehabilitation-energetique-17-06-2022-AXCFEWOAPRGXBPEYIYUD6NDBE4.php'}, {'lien_article': 'https://www.leparisien.fr/paris-75/face-a-la-canicule-paris-multiplie-les-points-deau-17-06-2022-3Q42DK7CZRFEVKAMNLCVTYPXEA.php'}, {'lien_article': 'https://www.leparisien.fr/paris-75/les-poubelles-debordent-a-paris-les-eboueurs-en-greve-en-pleine-vague-de-chaleur-15-06-2022-S5XVAC2E3REOREG7DHHEL5GGZM.php'}, {'lien_article': 'https://www.leparisien.fr/paris-75/la-chanteuse-louane-a-t-elle-ete-droguee-au-ghb-dans-un-bar-de-paris-14-06-2022-6MDDCNZUKRAL7DE3FDYZKGDIMU.php'}, {'lien_article': 'https://www.leparisien.fr/paris-75/vols-a-la-tire-sept-hommes-soupconnes-dexploiter-des-mineurs-isoles-interpelles-au-trocadero-14-06-2022-T6LO364O5VFQ5EEGRKRELYXPVE.php'}, {'lien_article': 'https://www.leparisien.fr/paris-75/legislatives-a-paris-sandrine-rousseau-remporte-la-premiere-manche-13-06-2022-PPT5W46MNFHSLNL2ZCGKITW4GM.php'}, {'lien_article': 'https://www.leparisien.fr/paris-75/legislatives-a-paris-sarah-legrain-des-bancs-du-lycee-a-ceux-de-lassemblee-13-06-2022-2QPYN3MGVFCUZP4DTY7ZKJO5EU.php'}, {'lien_article': 'https://www.leparisien.fr/paris-75/legislatives-a-paris-stanislas-guerini-un-ministre-en-difficulte-dans-la-3e-circonscription-de-la-capitale-13-06-2022-TWLEVSCKNRBIJH5A6YJVIUJICM.php'}, {'lien_article': 'https://www.leparisien.fr/paris-75/legislatives-a-paris-seule-adjointe-danne-hidalgo-a-se-presenter-olivia-polski-se-place-en-tete-13-06-2022-PP2LRLHQVZGG7AAO7ZYVSEGPCA.php'}, {'lien_article': 'https://www.leparisien.fr/paris-75/refus-dobtemperer-a-paris-les-trois-policiers-ont-ete-liberes-sans-poursuite-07-06-2022-AWBNK6F4XBF7NGCRKD7CKWODRY.php'}, {'lien_article': 'https://www.leparisien.fr/paris-75/paris-un-homme-poignarde-a-mort-dans-un-bar-de-la-rue-mouffetard-11-06-2022-EB3DSSAMIVHRNMUTN3LM76YFKM.php'}, {'lien_article': 'https://www.leparisien.fr/paris-75/paris-le-rappeur-moha-la-squale-arrete-a-sa-descente-du-train-a-la-gare-du-nord-11-06-2022-TUVQZ4SOLRCHRERHJDJVFJDRII.php'}, {'lien_article': 'https://www.leparisien.fr/paris-75/paris-annoncee-ouverte-au-public-par-erreur-la-pagode-chinoise-du-parc-monceau-debordee-par-les-visiteurs-10-06-2022-OTGYKDFJSVA2VPE5RAH2XXFLBU.php'}, {'lien_article': 'https://www.leparisien.fr/paris-75/paris-une-jeune-femme-de-29-ans-portee-disparue-ses-proches-lancent-un-avis-de-recherche-10-06-2022-OWGDQ436INGNVCIU46HGCFIW7U.php'}, {'lien_article': 'https://www.leparisien.fr/paris-75/crack-que-proposent-les-candidats-aux-legislatives-a-paris-pour-lutter-contre-ce-fleau-10-06-2022-VFZTL6J5UVGBNF6NG7GD62MOOE.php'}, {'lien_article': 'https://www.leparisien.fr/paris-75/paris-une-prostituee-egorgee-au-bois-de-vincennes-09-06-2022-2FCHBLHIPFFSTMAQ3XC6JJ3P6Q.php'}, {'lien_article': 'https://www.leparisien.fr/paris-75/paris-a-la-rotonde-edifice-classe-les-baraquements-en-bois-font-desordre-09-06-2022-Z67CXLOHDVGJHH4JII7TVOJEWI.php'}, {'lien_article': 'https://www.leparisien.fr/paris-75/paris-evacues-en-pleine-nuit-de-leur-immeuble-qui-menace-de-seffondrer-et-laisses-a-la-rue-08-06-2022-P75NZZDTMVBSNB47I5D2G3QPXI.php'}, {'lien_article': 'https://www.leparisien.fr/paris-75/legislatives-a-paris-quitterie-de-villepin-veut-prendre-soin-de-la-democratie-08-06-2022-NOC76OJ4VVCNZPQSD5Y4PNUYTU.php'}, {'lien_article': 'https://www.leparisien.fr/paris-75/paris-lauteur-dune-attaque-au-couteau-sur-un-passant-en-2017-declare-irresponsable-penalement-08-06-2022-UB5NZNXRFZELPFFVF2C42P5NMA.php'}, {'lien_article': 'https://www.leparisien.fr/paris-75/yanis-bacha-candidat-lrem-aux-legislatives-a-paris-jespere-etre-le-tout-premier-depute-en-fauteuil-06-06-2022-PBE6HORXNBGHVNTDNQ3MMIMMUE.php'}, {'lien_article': 'https://www.leparisien.fr/paris-75/la-politique-cest-debile-adrien-touati-37-ans-un-trublion-candidat-aux-legislatives-a-paris-06-06-2022-TRZXMOD4I5C4TJTZYW3CJM4D4A.php'}, {'lien_article': 'https://www.leparisien.fr/paris-75/oui-paris-vous-ennuie-en-conseil-de-paris-une-seance-tendue-des-louverture-31-05-2022-HOBVOCG6EBAQJHLPKGOPIUKYOQ.php'}, {'lien_article': 'https://www.leparisien.fr/paris-75/invasion-de-punaises-de-lit-dans-le-marais-lappartement-non-traite-de-la-ville-fait-vivre-un-cauchemar-aux-habitants-04-06-2022-GBX7WMO4UNGTXDWD33S4ILGNBY.php'}, {'lien_article': 'https://www.leparisien.fr/paris-75/paris-il-rattrape-les-voleurs-de-son-sac-et-se-fait-jeter-dans-la-seine-03-06-2022-YCJUQUK3TVDXRDHYRVPANZFZAQ.php'}, {'lien_article': 'https://www.leparisien.fr/paris-75/a-paris-le-monde-de-la-nuit-est-devenu-le-monde-du-soir-04-06-2022-6NYTB26UUBET5CIYPUUHDYXAYE.php'}, {'lien_article': 'https://www.leparisien.fr/paris-75/paris-le-nouveau-campus-de-la-sorbonne-metamorphose-le-quartier-picpus-et-inquiete-certains-riverains-03-06-2022-A4S6VIJG2NGCLMOYLWFWS3BNO4.php'}, {'lien_article': 'https://www.leparisien.fr/paris-75/la-bac-croit-a-un-braquage-et-menotte-deux-joueurs-en-plein-escape-game-a-paris-02-06-2022-NXTEG2QQYVCRJKYZM7LUGRAUYI.php'}, {'lien_article': 'https://www.leparisien.fr/paris-75/legislatives-a-paris-la-securite-theme-incontournable-dans-le-xvie-arrondissement-01-06-2022-ZWQHTUAI75HEFM2QNHURTY57QM.php'}, {'lien_article': 'https://www.leparisien.fr/paris-75/une-jeune-femme-mortellement-fauchee-par-un-chauffard-en-fuite-a-paris-29-05-2022-ETQPFNSOC5CBHPTCRVQO4EPWS4.php'}, {'lien_article': 'https://www.leparisien.fr/paris-75/ils-sont-repartis-en-laissant-de-la-m-des-montagnes-de-dechets-abandonnes-par-les-supporters-anglais-a-paris-29-05-2022-QIYDJ2RO7JAIVO3U7GHYQA5CZM.php'}, {'lien_article': 'https://www.leparisien.fr/paris-75/paris-au-pied-de-la-tour-eiffel-il-seleve-pour-la-protection-des-arbres-30-05-2022-3K5U6GQZKZA5BIABGWYAH2P7QI.php'}, {'lien_article': 'https://www.leparisien.fr/paris-75/manque-de-personnel-a-lhopital-en-ile-de-france-la-filiere-avc-dans-le-rouge-plus-de-20-des-lits-fermes-30-05-2022-PTXVMR4PMJFYPOYUTKH32MM4UE.php'}, {'lien_article': 'https://www.leparisien.fr/paris-75/incendie-de-notre-dame-de-paris-la-fleche-de-la-cathedrale-s-est-effondree-15-04-2019-8054001.php'}, {'lien_article': 'https://www.leparisien.fr/paris-75/mort-dantoine-alleno-lhommage-du-top-chef-mohamed-cheikh-10-05-2022-SPBO6SQSTRHRNMGFV5YW5V5U7A.php'}, {'lien_article': 'https://www.leparisien.fr/paris-75/paris-le-prix-des-chambres-dhotel-senvole-avant-la-finale-de-la-ligue-des-champions-25-05-2022-6A65XS4AONBHZAIHA45KZVWTFU.php'}, {'lien_article': 'https://www.leparisien.fr/paris-75/a-paris-ludi-se-lance-en-solo-dans-la-bataille-des-legislatives-25-05-2022-ETGUMMH3H5E5TLVIHTGLF2GJTQ.php'}, {'lien_article': 'https://www.leparisien.fr/paris-75/paris-75018/un-policier-adjoint-du-18e-arrondissement-detroussait-les-vendeurs-a-la-sauvette-24-05-2022-TRLFBPVSEBDPLGV7ABR6IAAZRM.php'}, {'lien_article': 'https://www.leparisien.fr/paris-75/lile-de-france-touchee-par-les-piqures-sauvages-en-soirees-ca-me-fait-hyper-peur-ces-histoires-24-05-2022-IA632C6MS5E2ZF2F3NRDJ2SBSQ.php'}, {'lien_article': 'https://www.leparisien.fr/paris-75/paris-en-bord-de-seine-la-premiere-aire-de-jeux-pour-chiens-23-05-2022-JN2FLW7V4JF2DOXVBK5BBRITJM.php'}]\n"
     ]
    }
   ],
   "source": [
    "len (stories)\n",
    "print(stories)"
   ]
  },
  {
   "cell_type": "code",
   "execution_count": 89,
   "id": "5f3b3ba5",
   "metadata": {
    "scrolled": false
   },
   "outputs": [
    {
     "name": "stdout",
     "output_type": "stream",
     "text": [
      "«Oui, Paris vous ennuie» : pour le retour d’Anne Hidalgo au Conseil de Paris, une séance tendue dès l’ouverture - Le Parisien\n",
      "None None None\n",
      "«Oui, Paris vous ennuie» : pour le retour d’Anne Hidalgo au Conseil de Paris, une séance tendue dès l’ouverture - Le Parisien\n",
      "0 /pf/resources/images/E-LOGO-LP-128x40@2x.png?d=443\n",
      "1 /pf/resources/images/E-LOGO-LP-192x60@2x.png?d=443\n",
      "2 https://assets.leparisien.fr/app/preview/lp75_vignette_une.jpeg\n",
      "3 /resizer/iQ_PlIEKlTwKXBNcz1gOLbqP1Tg=/360x225/cloudfront-eu-central-1.images.arcpublishing.com/leparisien/CY5ZAKHX3BHTDB5YDHLWVKI2VY.jpg\n",
      "4 /resizer/yJfmv8QvSLV25Zl4GcLdIlGB0K4=/360x225/cloudfront-eu-central-1.images.arcpublishing.com/leparisien/6DDWQCPQEBDINHAEX2FLZAOA4M.jpg\n",
      "5 /resizer/St4mN5Bfc_pADvVsiJ-zzVxLBoY=/360x225/cloudfront-eu-central-1.images.arcpublishing.com/leparisien/AYPGJLLLIVAJVDLOADPPU6FNNI.jpg\n",
      "6 /resizer/4arggX78HtneC-cqgZebuCk1BuU=/360x225/cloudfront-eu-central-1.images.arcpublishing.com/leparisien/F4OOA3S3ZVGQLGNCRP2YHL6SMI.jpg\n",
      "7 /resizer/g9ojfeej9JEhOFmL7wlzolVl8TQ=/360x225/cloudfront-eu-central-1.images.arcpublishing.com/leparisien/OXZXM7JRZVFWLMKCEDEL6AIFMI.jpg\n",
      "8 /resizer/quqOa3WJWnNBR3TRp7LgKsS03rg=/360x225/cloudfront-eu-central-1.images.arcpublishing.com/leparisien/T3BYULSAHJHFNPVRWZA5ZKFUVU.jpg\n",
      "9 /resizer/ac_NZivG5pfGGZCN__943dh60qU=/360x225/cloudfront-eu-central-1.images.arcpublishing.com/leparisien/TGHV23U27BOUSFAM54FQMHYIII.jpg\n",
      "10 /resizer/_Hiz0vw2cGgxKDGYJbvUpzRCBuI=/360x225/cloudfront-eu-central-1.images.arcpublishing.com/leparisien/E4I7D67Y2DLGF6SU6SPF6JYNR4.jpg\n",
      "11 /resizer/mengTS_WTo83aeB9faTvo0g__fk=/300x190/cloudfront-eu-central-1.images.arcpublishing.com/lpguideshopping/YXELDV42BNELNHRLLEC33TQHZU.jpg\n",
      "12 https://media.paruvendu.fr/media_ext/_https_/simpliciparis17.auto-gestion.net/1f/2e/L3NpdGVzL2FnYy5hY2NvbW1vZGF0YS5mci9maWxlcy9zdHlsZXMvODQ4eDU2NS9wdWJsaWMvcGhvdG8tMjAyMi0wNi0yMC0xOS0xNy0yNS5qcGc_aXRvaz15UmxOZnlTMA_sizecrop_80x60?2022070413\n",
      "13 https://media.paruvendu.fr/media_ext/_https_/simpliciparis17.auto-gestion.net/6d/8d/L3NpdGVzL2FnYy5hY2NvbW1vZGF0YS5mci9maWxlcy9zdHlsZXMvODQ4eDU2NS9wdWJsaWMvM2M3NWUzNzAtYjc3Ni00ODQ2LWEzZjctN2QzNjQyMWU0MTA4LmpwZWc_aXRvaz1uTE5qZDh0dw_sizecrop_80x60?2022070413\n",
      "14 https://media.paruvendu.fr/media_ext/_https_/simpliciparis17.auto-gestion.net/5e/c9/L3NpdGVzL2FnYy5hY2NvbW1vZGF0YS5mci9maWxlcy9zdHlsZXMvODQ4eDU2NS9wdWJsaWMvYWNjNWRjZWUtYWVmZi00MTRkLWFkMmMtN2MxYTZlOTM4Y2UzLmpwZWc_aXRvaz1NTHprTjJLVQ_sizecrop_80x60?2022070413\n",
      "15 https://media.paruvendu.fr/media_ext/_https_/simpliciparis17.auto-gestion.net/02/15/L3NpdGVzL2FnYy5hY2NvbW1vZGF0YS5mci9maWxlcy9zdHlsZXMvODQ4eDU2NS9wdWJsaWMvMWVjODAzNzEtODZjNS00ODdjLWIwODItOWRhMWEyOTIwYmRjLmpwZWc_aXRvaz1tUmZOajFlRA_sizecrop_80x60?2022070413\n",
      "16 https://media.paruvendu.fr/media_ext/_https_/media.paruvendu.fr/ca/28/L21lZGlhLXBhL1dWMTcvMC8xL1dWMTcwMTAxNjQ0XzEuanBlZw_sizecrop_80x60?2022070413\n",
      "17 /pf/resources/images/footer_img_abo_desktop.png?d=443\n",
      "18 /pf/resources/images/footer_img_abo_tablet.png?d=443\n",
      "«Oui, Paris vous ennuie» : pour le retour d’Anne Hidalgo au Conseil de Paris, une séance tendue dès l’ouverture - Le Parisien\n",
      "0 /pf/resources/images/E-LOGO-LP-128x40@2x.png?d=443\n",
      "1 /pf/resources/images/E-LOGO-LP-192x60@2x.png?d=443\n",
      "2 https://assets.leparisien.fr/app/preview/lp75_vignette_une.jpeg\n",
      "3 /resizer/iQ_PlIEKlTwKXBNcz1gOLbqP1Tg=/360x225/cloudfront-eu-central-1.images.arcpublishing.com/leparisien/CY5ZAKHX3BHTDB5YDHLWVKI2VY.jpg\n",
      "4 /resizer/yJfmv8QvSLV25Zl4GcLdIlGB0K4=/360x225/cloudfront-eu-central-1.images.arcpublishing.com/leparisien/6DDWQCPQEBDINHAEX2FLZAOA4M.jpg\n",
      "5 /resizer/St4mN5Bfc_pADvVsiJ-zzVxLBoY=/360x225/cloudfront-eu-central-1.images.arcpublishing.com/leparisien/AYPGJLLLIVAJVDLOADPPU6FNNI.jpg\n",
      "6 /resizer/4arggX78HtneC-cqgZebuCk1BuU=/360x225/cloudfront-eu-central-1.images.arcpublishing.com/leparisien/F4OOA3S3ZVGQLGNCRP2YHL6SMI.jpg\n",
      "7 /resizer/g9ojfeej9JEhOFmL7wlzolVl8TQ=/360x225/cloudfront-eu-central-1.images.arcpublishing.com/leparisien/OXZXM7JRZVFWLMKCEDEL6AIFMI.jpg\n",
      "8 /resizer/quqOa3WJWnNBR3TRp7LgKsS03rg=/360x225/cloudfront-eu-central-1.images.arcpublishing.com/leparisien/T3BYULSAHJHFNPVRWZA5ZKFUVU.jpg\n",
      "9 /resizer/ac_NZivG5pfGGZCN__943dh60qU=/360x225/cloudfront-eu-central-1.images.arcpublishing.com/leparisien/TGHV23U27BOUSFAM54FQMHYIII.jpg\n",
      "10 /resizer/_Hiz0vw2cGgxKDGYJbvUpzRCBuI=/360x225/cloudfront-eu-central-1.images.arcpublishing.com/leparisien/E4I7D67Y2DLGF6SU6SPF6JYNR4.jpg\n",
      "11 /resizer/mengTS_WTo83aeB9faTvo0g__fk=/300x190/cloudfront-eu-central-1.images.arcpublishing.com/lpguideshopping/YXELDV42BNELNHRLLEC33TQHZU.jpg\n",
      "12 https://media.paruvendu.fr/media_ext/_https_/simpliciparis17.auto-gestion.net/1f/2e/L3NpdGVzL2FnYy5hY2NvbW1vZGF0YS5mci9maWxlcy9zdHlsZXMvODQ4eDU2NS9wdWJsaWMvcGhvdG8tMjAyMi0wNi0yMC0xOS0xNy0yNS5qcGc_aXRvaz15UmxOZnlTMA_sizecrop_80x60?2022070413\n",
      "13 https://media.paruvendu.fr/media_ext/_https_/simpliciparis17.auto-gestion.net/6d/8d/L3NpdGVzL2FnYy5hY2NvbW1vZGF0YS5mci9maWxlcy9zdHlsZXMvODQ4eDU2NS9wdWJsaWMvM2M3NWUzNzAtYjc3Ni00ODQ2LWEzZjctN2QzNjQyMWU0MTA4LmpwZWc_aXRvaz1uTE5qZDh0dw_sizecrop_80x60?2022070413\n",
      "14 https://media.paruvendu.fr/media_ext/_https_/simpliciparis17.auto-gestion.net/5e/c9/L3NpdGVzL2FnYy5hY2NvbW1vZGF0YS5mci9maWxlcy9zdHlsZXMvODQ4eDU2NS9wdWJsaWMvYWNjNWRjZWUtYWVmZi00MTRkLWFkMmMtN2MxYTZlOTM4Y2UzLmpwZWc_aXRvaz1NTHprTjJLVQ_sizecrop_80x60?2022070413\n",
      "15 https://media.paruvendu.fr/media_ext/_https_/simpliciparis17.auto-gestion.net/02/15/L3NpdGVzL2FnYy5hY2NvbW1vZGF0YS5mci9maWxlcy9zdHlsZXMvODQ4eDU2NS9wdWJsaWMvMWVjODAzNzEtODZjNS00ODdjLWIwODItOWRhMWEyOTIwYmRjLmpwZWc_aXRvaz1tUmZOajFlRA_sizecrop_80x60?2022070413\n",
      "16 https://media.paruvendu.fr/media_ext/_https_/media.paruvendu.fr/ca/28/L21lZGlhLXBhL1dWMTcvMC8xL1dWMTcwMTAxNjQ0XzEuanBlZw_sizecrop_80x60?2022070413\n",
      "17 /pf/resources/images/footer_img_abo_desktop.png?d=443\n",
      "18 /pf/resources/images/footer_img_abo_tablet.png?d=443\n",
      "<function title_glo_paris at 0x00000255B83FC550>\n",
      "<function title_glo_paris at 0x00000255B83FC550>\n",
      "<function title_glo_paris at 0x00000255B83FC550>\n",
      "<function title_glo_paris at 0x00000255B83FC550>\n",
      "<function title_glo_paris at 0x00000255B83FC550>\n",
      "<function title_glo_paris at 0x00000255B83FC550>\n",
      "<function title_glo_paris at 0x00000255B83FC550>\n",
      "<function title_glo_paris at 0x00000255B83FC550>\n",
      "<function title_glo_paris at 0x00000255B83FC550>\n",
      "<function title_glo_paris at 0x00000255B83FC550>\n",
      "<function title_glo_paris at 0x00000255B83FC550>\n",
      "<function title_glo_paris at 0x00000255B83FC550>\n",
      "<function title_glo_paris at 0x00000255B83FC550>\n",
      "<function title_glo_paris at 0x00000255B83FC550>\n",
      "<function title_glo_paris at 0x00000255B83FC550>\n",
      "<function title_glo_paris at 0x00000255B83FC550>\n",
      "<function title_glo_paris at 0x00000255B83FC550>\n",
      "<function title_glo_paris at 0x00000255B83FC550>\n",
      "<function title_glo_paris at 0x00000255B83FC550>\n",
      "<function title_glo_paris at 0x00000255B83FC550>\n",
      "<function title_glo_paris at 0x00000255B83FC550>\n",
      "<function title_glo_paris at 0x00000255B83FC550>\n",
      "<function title_glo_paris at 0x00000255B83FC550>\n",
      "<function title_glo_paris at 0x00000255B83FC550>\n",
      "<function title_glo_paris at 0x00000255B83FC550>\n",
      "<function title_glo_paris at 0x00000255B83FC550>\n",
      "<function title_glo_paris at 0x00000255B83FC550>\n",
      "<function title_glo_paris at 0x00000255B83FC550>\n",
      "<function title_glo_paris at 0x00000255B83FC550>\n",
      "<function title_glo_paris at 0x00000255B83FC550>\n",
      "<function title_glo_paris at 0x00000255B83FC550>\n",
      "<function title_glo_paris at 0x00000255B83FC550>\n",
      "<function title_glo_paris at 0x00000255B83FC550>\n",
      "<function title_glo_paris at 0x00000255B83FC550>\n",
      "<function title_glo_paris at 0x00000255B83FC550>\n",
      "<function title_glo_paris at 0x00000255B83FC550>\n",
      "<function title_glo_paris at 0x00000255B83FC550>\n",
      "<function title_glo_paris at 0x00000255B83FC550>\n",
      "<function title_glo_paris at 0x00000255B83FC550>\n",
      "<function title_glo_paris at 0x00000255B83FC550>\n",
      "<function title_glo_paris at 0x00000255B83FC550>\n",
      "<function title_glo_paris at 0x00000255B83FC550>\n",
      "<function title_glo_paris at 0x00000255B83FC550>\n",
      "<function title_glo_paris at 0x00000255B83FC550>\n",
      "<function title_glo_paris at 0x00000255B83FC550>\n",
      "<function title_glo_paris at 0x00000255B83FC550>\n"
     ]
    },
    {
     "ename": "SSLError",
     "evalue": "HTTPSConnectionPool(host='www.leparisien.fr', port=443): Max retries exceeded with url: /paris-75/paris-75019/paris-un-campement-de-360-migrants-evacue-pres-de-la-porte-de-pantin-22-06-2022-XDWYUBBZIZDX5AGAQOS7RL3SKQ.php (Caused by SSLError(SSLError(1, '[SSL: TLSV1_ALERT_INTERNAL_ERROR] tlsv1 alert internal error (_ssl.c:1125)')))",
     "output_type": "error",
     "traceback": [
      "\u001b[1;31m---------------------------------------------------------------------------\u001b[0m",
      "\u001b[1;31mSSLError\u001b[0m                                  Traceback (most recent call last)",
      "\u001b[1;32m~\\anaconda3\\lib\\site-packages\\urllib3\\connectionpool.py\u001b[0m in \u001b[0;36murlopen\u001b[1;34m(self, method, url, body, headers, retries, redirect, assert_same_host, timeout, pool_timeout, release_conn, chunked, body_pos, **response_kw)\u001b[0m\n\u001b[0;32m    698\u001b[0m             \u001b[1;31m# Make the request on the httplib connection object.\u001b[0m\u001b[1;33m\u001b[0m\u001b[1;33m\u001b[0m\u001b[1;33m\u001b[0m\u001b[0m\n\u001b[1;32m--> 699\u001b[1;33m             httplib_response = self._make_request(\n\u001b[0m\u001b[0;32m    700\u001b[0m                 \u001b[0mconn\u001b[0m\u001b[1;33m,\u001b[0m\u001b[1;33m\u001b[0m\u001b[1;33m\u001b[0m\u001b[0m\n",
      "\u001b[1;32m~\\anaconda3\\lib\\site-packages\\urllib3\\connectionpool.py\u001b[0m in \u001b[0;36m_make_request\u001b[1;34m(self, conn, method, url, timeout, chunked, **httplib_request_kw)\u001b[0m\n\u001b[0;32m    381\u001b[0m         \u001b[1;32mtry\u001b[0m\u001b[1;33m:\u001b[0m\u001b[1;33m\u001b[0m\u001b[1;33m\u001b[0m\u001b[0m\n\u001b[1;32m--> 382\u001b[1;33m             \u001b[0mself\u001b[0m\u001b[1;33m.\u001b[0m\u001b[0m_validate_conn\u001b[0m\u001b[1;33m(\u001b[0m\u001b[0mconn\u001b[0m\u001b[1;33m)\u001b[0m\u001b[1;33m\u001b[0m\u001b[1;33m\u001b[0m\u001b[0m\n\u001b[0m\u001b[0;32m    383\u001b[0m         \u001b[1;32mexcept\u001b[0m \u001b[1;33m(\u001b[0m\u001b[0mSocketTimeout\u001b[0m\u001b[1;33m,\u001b[0m \u001b[0mBaseSSLError\u001b[0m\u001b[1;33m)\u001b[0m \u001b[1;32mas\u001b[0m \u001b[0me\u001b[0m\u001b[1;33m:\u001b[0m\u001b[1;33m\u001b[0m\u001b[1;33m\u001b[0m\u001b[0m\n",
      "\u001b[1;32m~\\anaconda3\\lib\\site-packages\\urllib3\\connectionpool.py\u001b[0m in \u001b[0;36m_validate_conn\u001b[1;34m(self, conn)\u001b[0m\n\u001b[0;32m   1009\u001b[0m         \u001b[1;32mif\u001b[0m \u001b[1;32mnot\u001b[0m \u001b[0mgetattr\u001b[0m\u001b[1;33m(\u001b[0m\u001b[0mconn\u001b[0m\u001b[1;33m,\u001b[0m \u001b[1;34m\"sock\"\u001b[0m\u001b[1;33m,\u001b[0m \u001b[1;32mNone\u001b[0m\u001b[1;33m)\u001b[0m\u001b[1;33m:\u001b[0m  \u001b[1;31m# AppEngine might not have  `.sock`\u001b[0m\u001b[1;33m\u001b[0m\u001b[1;33m\u001b[0m\u001b[0m\n\u001b[1;32m-> 1010\u001b[1;33m             \u001b[0mconn\u001b[0m\u001b[1;33m.\u001b[0m\u001b[0mconnect\u001b[0m\u001b[1;33m(\u001b[0m\u001b[1;33m)\u001b[0m\u001b[1;33m\u001b[0m\u001b[1;33m\u001b[0m\u001b[0m\n\u001b[0m\u001b[0;32m   1011\u001b[0m \u001b[1;33m\u001b[0m\u001b[0m\n",
      "\u001b[1;32m~\\anaconda3\\lib\\site-packages\\urllib3\\connection.py\u001b[0m in \u001b[0;36mconnect\u001b[1;34m(self)\u001b[0m\n\u001b[0;32m    410\u001b[0m \u001b[1;33m\u001b[0m\u001b[0m\n\u001b[1;32m--> 411\u001b[1;33m         self.sock = ssl_wrap_socket(\n\u001b[0m\u001b[0;32m    412\u001b[0m             \u001b[0msock\u001b[0m\u001b[1;33m=\u001b[0m\u001b[0mconn\u001b[0m\u001b[1;33m,\u001b[0m\u001b[1;33m\u001b[0m\u001b[1;33m\u001b[0m\u001b[0m\n",
      "\u001b[1;32m~\\anaconda3\\lib\\site-packages\\urllib3\\util\\ssl_.py\u001b[0m in \u001b[0;36mssl_wrap_socket\u001b[1;34m(sock, keyfile, certfile, cert_reqs, ca_certs, server_hostname, ssl_version, ciphers, ssl_context, ca_cert_dir, key_password, ca_cert_data, tls_in_tls)\u001b[0m\n\u001b[0;32m    427\u001b[0m     \u001b[1;32mif\u001b[0m \u001b[0msend_sni\u001b[0m\u001b[1;33m:\u001b[0m\u001b[1;33m\u001b[0m\u001b[1;33m\u001b[0m\u001b[0m\n\u001b[1;32m--> 428\u001b[1;33m         ssl_sock = _ssl_wrap_socket_impl(\n\u001b[0m\u001b[0;32m    429\u001b[0m             \u001b[0msock\u001b[0m\u001b[1;33m,\u001b[0m \u001b[0mcontext\u001b[0m\u001b[1;33m,\u001b[0m \u001b[0mtls_in_tls\u001b[0m\u001b[1;33m,\u001b[0m \u001b[0mserver_hostname\u001b[0m\u001b[1;33m=\u001b[0m\u001b[0mserver_hostname\u001b[0m\u001b[1;33m\u001b[0m\u001b[1;33m\u001b[0m\u001b[0m\n",
      "\u001b[1;32m~\\anaconda3\\lib\\site-packages\\urllib3\\util\\ssl_.py\u001b[0m in \u001b[0;36m_ssl_wrap_socket_impl\u001b[1;34m(sock, ssl_context, tls_in_tls, server_hostname)\u001b[0m\n\u001b[0;32m    471\u001b[0m     \u001b[1;32mif\u001b[0m \u001b[0mserver_hostname\u001b[0m\u001b[1;33m:\u001b[0m\u001b[1;33m\u001b[0m\u001b[1;33m\u001b[0m\u001b[0m\n\u001b[1;32m--> 472\u001b[1;33m         \u001b[1;32mreturn\u001b[0m \u001b[0mssl_context\u001b[0m\u001b[1;33m.\u001b[0m\u001b[0mwrap_socket\u001b[0m\u001b[1;33m(\u001b[0m\u001b[0msock\u001b[0m\u001b[1;33m,\u001b[0m \u001b[0mserver_hostname\u001b[0m\u001b[1;33m=\u001b[0m\u001b[0mserver_hostname\u001b[0m\u001b[1;33m)\u001b[0m\u001b[1;33m\u001b[0m\u001b[1;33m\u001b[0m\u001b[0m\n\u001b[0m\u001b[0;32m    473\u001b[0m     \u001b[1;32melse\u001b[0m\u001b[1;33m:\u001b[0m\u001b[1;33m\u001b[0m\u001b[1;33m\u001b[0m\u001b[0m\n",
      "\u001b[1;32m~\\anaconda3\\lib\\ssl.py\u001b[0m in \u001b[0;36mwrap_socket\u001b[1;34m(self, sock, server_side, do_handshake_on_connect, suppress_ragged_eofs, server_hostname, session)\u001b[0m\n\u001b[0;32m    499\u001b[0m         \u001b[1;31m# ctx._wrap_socket()\u001b[0m\u001b[1;33m\u001b[0m\u001b[1;33m\u001b[0m\u001b[1;33m\u001b[0m\u001b[0m\n\u001b[1;32m--> 500\u001b[1;33m         return self.sslsocket_class._create(\n\u001b[0m\u001b[0;32m    501\u001b[0m             \u001b[0msock\u001b[0m\u001b[1;33m=\u001b[0m\u001b[0msock\u001b[0m\u001b[1;33m,\u001b[0m\u001b[1;33m\u001b[0m\u001b[1;33m\u001b[0m\u001b[0m\n",
      "\u001b[1;32m~\\anaconda3\\lib\\ssl.py\u001b[0m in \u001b[0;36m_create\u001b[1;34m(cls, sock, server_side, do_handshake_on_connect, suppress_ragged_eofs, server_hostname, context, session)\u001b[0m\n\u001b[0;32m   1039\u001b[0m                         \u001b[1;32mraise\u001b[0m \u001b[0mValueError\u001b[0m\u001b[1;33m(\u001b[0m\u001b[1;34m\"do_handshake_on_connect should not be specified for non-blocking sockets\"\u001b[0m\u001b[1;33m)\u001b[0m\u001b[1;33m\u001b[0m\u001b[1;33m\u001b[0m\u001b[0m\n\u001b[1;32m-> 1040\u001b[1;33m                     \u001b[0mself\u001b[0m\u001b[1;33m.\u001b[0m\u001b[0mdo_handshake\u001b[0m\u001b[1;33m(\u001b[0m\u001b[1;33m)\u001b[0m\u001b[1;33m\u001b[0m\u001b[1;33m\u001b[0m\u001b[0m\n\u001b[0m\u001b[0;32m   1041\u001b[0m             \u001b[1;32mexcept\u001b[0m \u001b[1;33m(\u001b[0m\u001b[0mOSError\u001b[0m\u001b[1;33m,\u001b[0m \u001b[0mValueError\u001b[0m\u001b[1;33m)\u001b[0m\u001b[1;33m:\u001b[0m\u001b[1;33m\u001b[0m\u001b[1;33m\u001b[0m\u001b[0m\n",
      "\u001b[1;32m~\\anaconda3\\lib\\ssl.py\u001b[0m in \u001b[0;36mdo_handshake\u001b[1;34m(self, block)\u001b[0m\n\u001b[0;32m   1308\u001b[0m                 \u001b[0mself\u001b[0m\u001b[1;33m.\u001b[0m\u001b[0msettimeout\u001b[0m\u001b[1;33m(\u001b[0m\u001b[1;32mNone\u001b[0m\u001b[1;33m)\u001b[0m\u001b[1;33m\u001b[0m\u001b[1;33m\u001b[0m\u001b[0m\n\u001b[1;32m-> 1309\u001b[1;33m             \u001b[0mself\u001b[0m\u001b[1;33m.\u001b[0m\u001b[0m_sslobj\u001b[0m\u001b[1;33m.\u001b[0m\u001b[0mdo_handshake\u001b[0m\u001b[1;33m(\u001b[0m\u001b[1;33m)\u001b[0m\u001b[1;33m\u001b[0m\u001b[1;33m\u001b[0m\u001b[0m\n\u001b[0m\u001b[0;32m   1310\u001b[0m         \u001b[1;32mfinally\u001b[0m\u001b[1;33m:\u001b[0m\u001b[1;33m\u001b[0m\u001b[1;33m\u001b[0m\u001b[0m\n",
      "\u001b[1;31mSSLError\u001b[0m: [SSL: TLSV1_ALERT_INTERNAL_ERROR] tlsv1 alert internal error (_ssl.c:1125)",
      "\nDuring handling of the above exception, another exception occurred:\n",
      "\u001b[1;31mMaxRetryError\u001b[0m                             Traceback (most recent call last)",
      "\u001b[1;32m~\\anaconda3\\lib\\site-packages\\requests\\adapters.py\u001b[0m in \u001b[0;36msend\u001b[1;34m(self, request, stream, timeout, verify, cert, proxies)\u001b[0m\n\u001b[0;32m    438\u001b[0m             \u001b[1;32mif\u001b[0m \u001b[1;32mnot\u001b[0m \u001b[0mchunked\u001b[0m\u001b[1;33m:\u001b[0m\u001b[1;33m\u001b[0m\u001b[1;33m\u001b[0m\u001b[0m\n\u001b[1;32m--> 439\u001b[1;33m                 resp = conn.urlopen(\n\u001b[0m\u001b[0;32m    440\u001b[0m                     \u001b[0mmethod\u001b[0m\u001b[1;33m=\u001b[0m\u001b[0mrequest\u001b[0m\u001b[1;33m.\u001b[0m\u001b[0mmethod\u001b[0m\u001b[1;33m,\u001b[0m\u001b[1;33m\u001b[0m\u001b[1;33m\u001b[0m\u001b[0m\n",
      "\u001b[1;32m~\\anaconda3\\lib\\site-packages\\urllib3\\connectionpool.py\u001b[0m in \u001b[0;36murlopen\u001b[1;34m(self, method, url, body, headers, retries, redirect, assert_same_host, timeout, pool_timeout, release_conn, chunked, body_pos, **response_kw)\u001b[0m\n\u001b[0;32m    754\u001b[0m \u001b[1;33m\u001b[0m\u001b[0m\n\u001b[1;32m--> 755\u001b[1;33m             retries = retries.increment(\n\u001b[0m\u001b[0;32m    756\u001b[0m                 \u001b[0mmethod\u001b[0m\u001b[1;33m,\u001b[0m \u001b[0murl\u001b[0m\u001b[1;33m,\u001b[0m \u001b[0merror\u001b[0m\u001b[1;33m=\u001b[0m\u001b[0me\u001b[0m\u001b[1;33m,\u001b[0m \u001b[0m_pool\u001b[0m\u001b[1;33m=\u001b[0m\u001b[0mself\u001b[0m\u001b[1;33m,\u001b[0m \u001b[0m_stacktrace\u001b[0m\u001b[1;33m=\u001b[0m\u001b[0msys\u001b[0m\u001b[1;33m.\u001b[0m\u001b[0mexc_info\u001b[0m\u001b[1;33m(\u001b[0m\u001b[1;33m)\u001b[0m\u001b[1;33m[\u001b[0m\u001b[1;36m2\u001b[0m\u001b[1;33m]\u001b[0m\u001b[1;33m\u001b[0m\u001b[1;33m\u001b[0m\u001b[0m\n",
      "\u001b[1;32m~\\anaconda3\\lib\\site-packages\\urllib3\\util\\retry.py\u001b[0m in \u001b[0;36mincrement\u001b[1;34m(self, method, url, response, error, _pool, _stacktrace)\u001b[0m\n\u001b[0;32m    573\u001b[0m         \u001b[1;32mif\u001b[0m \u001b[0mnew_retry\u001b[0m\u001b[1;33m.\u001b[0m\u001b[0mis_exhausted\u001b[0m\u001b[1;33m(\u001b[0m\u001b[1;33m)\u001b[0m\u001b[1;33m:\u001b[0m\u001b[1;33m\u001b[0m\u001b[1;33m\u001b[0m\u001b[0m\n\u001b[1;32m--> 574\u001b[1;33m             \u001b[1;32mraise\u001b[0m \u001b[0mMaxRetryError\u001b[0m\u001b[1;33m(\u001b[0m\u001b[0m_pool\u001b[0m\u001b[1;33m,\u001b[0m \u001b[0murl\u001b[0m\u001b[1;33m,\u001b[0m \u001b[0merror\u001b[0m \u001b[1;32mor\u001b[0m \u001b[0mResponseError\u001b[0m\u001b[1;33m(\u001b[0m\u001b[0mcause\u001b[0m\u001b[1;33m)\u001b[0m\u001b[1;33m)\u001b[0m\u001b[1;33m\u001b[0m\u001b[1;33m\u001b[0m\u001b[0m\n\u001b[0m\u001b[0;32m    575\u001b[0m \u001b[1;33m\u001b[0m\u001b[0m\n",
      "\u001b[1;31mMaxRetryError\u001b[0m: HTTPSConnectionPool(host='www.leparisien.fr', port=443): Max retries exceeded with url: /paris-75/paris-75019/paris-un-campement-de-360-migrants-evacue-pres-de-la-porte-de-pantin-22-06-2022-XDWYUBBZIZDX5AGAQOS7RL3SKQ.php (Caused by SSLError(SSLError(1, '[SSL: TLSV1_ALERT_INTERNAL_ERROR] tlsv1 alert internal error (_ssl.c:1125)')))",
      "\nDuring handling of the above exception, another exception occurred:\n",
      "\u001b[1;31mSSLError\u001b[0m                                  Traceback (most recent call last)",
      "\u001b[1;32m<ipython-input-89-31c76b6c22f4>\u001b[0m in \u001b[0;36m<module>\u001b[1;34m\u001b[0m\n\u001b[0;32m     11\u001b[0m \u001b[1;33m\u001b[0m\u001b[0m\n\u001b[0;32m     12\u001b[0m \u001b[1;32mfor\u001b[0m \u001b[0mstory\u001b[0m \u001b[1;32min\u001b[0m \u001b[0mstories\u001b[0m\u001b[1;33m:\u001b[0m\u001b[1;33m\u001b[0m\u001b[1;33m\u001b[0m\u001b[0m\n\u001b[1;32m---> 13\u001b[1;33m     \u001b[0mpage\u001b[0m \u001b[1;33m=\u001b[0m \u001b[0mget\u001b[0m\u001b[1;33m(\u001b[0m\u001b[0mlien_article\u001b[0m\u001b[1;33m)\u001b[0m\u001b[1;33m\u001b[0m\u001b[1;33m\u001b[0m\u001b[0m\n\u001b[0m\u001b[0;32m     14\u001b[0m     \u001b[0mhtml_soup\u001b[0m \u001b[1;33m=\u001b[0m \u001b[0mBeautifulSoup\u001b[0m\u001b[1;33m(\u001b[0m\u001b[0mpage\u001b[0m\u001b[1;33m.\u001b[0m\u001b[0mtext\u001b[0m\u001b[1;33m,\u001b[0m \u001b[1;34m'html.parser'\u001b[0m\u001b[1;33m)\u001b[0m\u001b[1;33m\u001b[0m\u001b[1;33m\u001b[0m\u001b[0m\n\u001b[0;32m     15\u001b[0m     \u001b[0mlien_article\u001b[0m \u001b[1;33m=\u001b[0m \u001b[0mstory\u001b[0m\u001b[1;33m[\u001b[0m\u001b[1;34m'lien_article'\u001b[0m\u001b[1;33m]\u001b[0m\u001b[1;33m\u001b[0m\u001b[1;33m\u001b[0m\u001b[0m\n",
      "\u001b[1;32m~\\anaconda3\\lib\\site-packages\\requests\\api.py\u001b[0m in \u001b[0;36mget\u001b[1;34m(url, params, **kwargs)\u001b[0m\n\u001b[0;32m     74\u001b[0m \u001b[1;33m\u001b[0m\u001b[0m\n\u001b[0;32m     75\u001b[0m     \u001b[0mkwargs\u001b[0m\u001b[1;33m.\u001b[0m\u001b[0msetdefault\u001b[0m\u001b[1;33m(\u001b[0m\u001b[1;34m'allow_redirects'\u001b[0m\u001b[1;33m,\u001b[0m \u001b[1;32mTrue\u001b[0m\u001b[1;33m)\u001b[0m\u001b[1;33m\u001b[0m\u001b[1;33m\u001b[0m\u001b[0m\n\u001b[1;32m---> 76\u001b[1;33m     \u001b[1;32mreturn\u001b[0m \u001b[0mrequest\u001b[0m\u001b[1;33m(\u001b[0m\u001b[1;34m'get'\u001b[0m\u001b[1;33m,\u001b[0m \u001b[0murl\u001b[0m\u001b[1;33m,\u001b[0m \u001b[0mparams\u001b[0m\u001b[1;33m=\u001b[0m\u001b[0mparams\u001b[0m\u001b[1;33m,\u001b[0m \u001b[1;33m**\u001b[0m\u001b[0mkwargs\u001b[0m\u001b[1;33m)\u001b[0m\u001b[1;33m\u001b[0m\u001b[1;33m\u001b[0m\u001b[0m\n\u001b[0m\u001b[0;32m     77\u001b[0m \u001b[1;33m\u001b[0m\u001b[0m\n\u001b[0;32m     78\u001b[0m \u001b[1;33m\u001b[0m\u001b[0m\n",
      "\u001b[1;32m~\\anaconda3\\lib\\site-packages\\requests\\api.py\u001b[0m in \u001b[0;36mrequest\u001b[1;34m(method, url, **kwargs)\u001b[0m\n\u001b[0;32m     59\u001b[0m     \u001b[1;31m# cases, and look like a memory leak in others.\u001b[0m\u001b[1;33m\u001b[0m\u001b[1;33m\u001b[0m\u001b[1;33m\u001b[0m\u001b[0m\n\u001b[0;32m     60\u001b[0m     \u001b[1;32mwith\u001b[0m \u001b[0msessions\u001b[0m\u001b[1;33m.\u001b[0m\u001b[0mSession\u001b[0m\u001b[1;33m(\u001b[0m\u001b[1;33m)\u001b[0m \u001b[1;32mas\u001b[0m \u001b[0msession\u001b[0m\u001b[1;33m:\u001b[0m\u001b[1;33m\u001b[0m\u001b[1;33m\u001b[0m\u001b[0m\n\u001b[1;32m---> 61\u001b[1;33m         \u001b[1;32mreturn\u001b[0m \u001b[0msession\u001b[0m\u001b[1;33m.\u001b[0m\u001b[0mrequest\u001b[0m\u001b[1;33m(\u001b[0m\u001b[0mmethod\u001b[0m\u001b[1;33m=\u001b[0m\u001b[0mmethod\u001b[0m\u001b[1;33m,\u001b[0m \u001b[0murl\u001b[0m\u001b[1;33m=\u001b[0m\u001b[0murl\u001b[0m\u001b[1;33m,\u001b[0m \u001b[1;33m**\u001b[0m\u001b[0mkwargs\u001b[0m\u001b[1;33m)\u001b[0m\u001b[1;33m\u001b[0m\u001b[1;33m\u001b[0m\u001b[0m\n\u001b[0m\u001b[0;32m     62\u001b[0m \u001b[1;33m\u001b[0m\u001b[0m\n\u001b[0;32m     63\u001b[0m \u001b[1;33m\u001b[0m\u001b[0m\n",
      "\u001b[1;32m~\\anaconda3\\lib\\site-packages\\requests\\sessions.py\u001b[0m in \u001b[0;36mrequest\u001b[1;34m(self, method, url, params, data, headers, cookies, files, auth, timeout, allow_redirects, proxies, hooks, stream, verify, cert, json)\u001b[0m\n\u001b[0;32m    540\u001b[0m         }\n\u001b[0;32m    541\u001b[0m         \u001b[0msend_kwargs\u001b[0m\u001b[1;33m.\u001b[0m\u001b[0mupdate\u001b[0m\u001b[1;33m(\u001b[0m\u001b[0msettings\u001b[0m\u001b[1;33m)\u001b[0m\u001b[1;33m\u001b[0m\u001b[1;33m\u001b[0m\u001b[0m\n\u001b[1;32m--> 542\u001b[1;33m         \u001b[0mresp\u001b[0m \u001b[1;33m=\u001b[0m \u001b[0mself\u001b[0m\u001b[1;33m.\u001b[0m\u001b[0msend\u001b[0m\u001b[1;33m(\u001b[0m\u001b[0mprep\u001b[0m\u001b[1;33m,\u001b[0m \u001b[1;33m**\u001b[0m\u001b[0msend_kwargs\u001b[0m\u001b[1;33m)\u001b[0m\u001b[1;33m\u001b[0m\u001b[1;33m\u001b[0m\u001b[0m\n\u001b[0m\u001b[0;32m    543\u001b[0m \u001b[1;33m\u001b[0m\u001b[0m\n\u001b[0;32m    544\u001b[0m         \u001b[1;32mreturn\u001b[0m \u001b[0mresp\u001b[0m\u001b[1;33m\u001b[0m\u001b[1;33m\u001b[0m\u001b[0m\n",
      "\u001b[1;32m~\\anaconda3\\lib\\site-packages\\requests\\sessions.py\u001b[0m in \u001b[0;36msend\u001b[1;34m(self, request, **kwargs)\u001b[0m\n\u001b[0;32m    653\u001b[0m \u001b[1;33m\u001b[0m\u001b[0m\n\u001b[0;32m    654\u001b[0m         \u001b[1;31m# Send the request\u001b[0m\u001b[1;33m\u001b[0m\u001b[1;33m\u001b[0m\u001b[1;33m\u001b[0m\u001b[0m\n\u001b[1;32m--> 655\u001b[1;33m         \u001b[0mr\u001b[0m \u001b[1;33m=\u001b[0m \u001b[0madapter\u001b[0m\u001b[1;33m.\u001b[0m\u001b[0msend\u001b[0m\u001b[1;33m(\u001b[0m\u001b[0mrequest\u001b[0m\u001b[1;33m,\u001b[0m \u001b[1;33m**\u001b[0m\u001b[0mkwargs\u001b[0m\u001b[1;33m)\u001b[0m\u001b[1;33m\u001b[0m\u001b[1;33m\u001b[0m\u001b[0m\n\u001b[0m\u001b[0;32m    656\u001b[0m \u001b[1;33m\u001b[0m\u001b[0m\n\u001b[0;32m    657\u001b[0m         \u001b[1;31m# Total elapsed time of the request (approximately)\u001b[0m\u001b[1;33m\u001b[0m\u001b[1;33m\u001b[0m\u001b[1;33m\u001b[0m\u001b[0m\n",
      "\u001b[1;32m~\\anaconda3\\lib\\site-packages\\requests\\adapters.py\u001b[0m in \u001b[0;36msend\u001b[1;34m(self, request, stream, timeout, verify, cert, proxies)\u001b[0m\n\u001b[0;32m    512\u001b[0m             \u001b[1;32mif\u001b[0m \u001b[0misinstance\u001b[0m\u001b[1;33m(\u001b[0m\u001b[0me\u001b[0m\u001b[1;33m.\u001b[0m\u001b[0mreason\u001b[0m\u001b[1;33m,\u001b[0m \u001b[0m_SSLError\u001b[0m\u001b[1;33m)\u001b[0m\u001b[1;33m:\u001b[0m\u001b[1;33m\u001b[0m\u001b[1;33m\u001b[0m\u001b[0m\n\u001b[0;32m    513\u001b[0m                 \u001b[1;31m# This branch is for urllib3 v1.22 and later.\u001b[0m\u001b[1;33m\u001b[0m\u001b[1;33m\u001b[0m\u001b[1;33m\u001b[0m\u001b[0m\n\u001b[1;32m--> 514\u001b[1;33m                 \u001b[1;32mraise\u001b[0m \u001b[0mSSLError\u001b[0m\u001b[1;33m(\u001b[0m\u001b[0me\u001b[0m\u001b[1;33m,\u001b[0m \u001b[0mrequest\u001b[0m\u001b[1;33m=\u001b[0m\u001b[0mrequest\u001b[0m\u001b[1;33m)\u001b[0m\u001b[1;33m\u001b[0m\u001b[1;33m\u001b[0m\u001b[0m\n\u001b[0m\u001b[0;32m    515\u001b[0m \u001b[1;33m\u001b[0m\u001b[0m\n\u001b[0;32m    516\u001b[0m             \u001b[1;32mraise\u001b[0m \u001b[0mConnectionError\u001b[0m\u001b[1;33m(\u001b[0m\u001b[0me\u001b[0m\u001b[1;33m,\u001b[0m \u001b[0mrequest\u001b[0m\u001b[1;33m=\u001b[0m\u001b[0mrequest\u001b[0m\u001b[1;33m)\u001b[0m\u001b[1;33m\u001b[0m\u001b[1;33m\u001b[0m\u001b[0m\n",
      "\u001b[1;31mSSLError\u001b[0m: HTTPSConnectionPool(host='www.leparisien.fr', port=443): Max retries exceeded with url: /paris-75/paris-75019/paris-un-campement-de-360-migrants-evacue-pres-de-la-porte-de-pantin-22-06-2022-XDWYUBBZIZDX5AGAQOS7RL3SKQ.php (Caused by SSLError(SSLError(1, '[SSL: TLSV1_ALERT_INTERNAL_ERROR] tlsv1 alert internal error (_ssl.c:1125)')))"
     ]
    }
   ],
   "source": [
    "\n",
    "dicoVicto = {\"https://www.estrepublicain.fr/\" : title_glo_est(lien_article),\n",
    "        \"https://www.sudouest.fr/\" : title_glo_sudouest(lien_article),\n",
    "        \"https://www.leparisien.fr/\" : title_glo_paris,\n",
    "        \"https://www.lavoixdunord.fr/\" : title_glo_voixnord(lien_article)\n",
    "    }\n",
    "\n",
    "def to_scrape(lien_article):\n",
    "    for i in dicoVicto:\n",
    "        if lien_article.startswith(i):\n",
    "          return dicoVicto[i]\n",
    "\n",
    "for story in stories:\n",
    "    page = get(lien_article)\n",
    "    html_soup = BeautifulSoup(page.text, 'html.parser')\n",
    "    lien_article = story['lien_article']\n",
    "    page = get(lien_article)\n",
    "    html_soup = BeautifulSoup(page.text, 'html.parser')\n",
    "    print(to_scrape(lien_article))\n"
   ]
  },
  {
   "cell_type": "code",
   "execution_count": null,
   "id": "c9e75fac",
   "metadata": {},
   "outputs": [],
   "source": []
  },
  {
   "cell_type": "markdown",
   "id": "df3a4c65",
   "metadata": {},
   "source": [
    "# Envoie BDD"
   ]
  },
  {
   "cell_type": "code",
   "execution_count": 40,
   "id": "f61cc175",
   "metadata": {},
   "outputs": [
    {
     "name": "stdout",
     "output_type": "stream",
     "text": [
      "Requirement already satisfied: mysql-connector-python-rf in c:\\users\\richa\\anaconda3\\lib\\site-packages (2.2.2)\n",
      "Note: you may need to restart the kernel to use updated packages.\n"
     ]
    }
   ],
   "source": [
    "pip install mysql-connector-python-rf"
   ]
  },
  {
   "cell_type": "code",
   "execution_count": 41,
   "id": "48ec9b11",
   "metadata": {},
   "outputs": [
    {
     "name": "stdout",
     "output_type": "stream",
     "text": [
      "Requirement already satisfied: pygooglenews in c:\\users\\richa\\anaconda3\\lib\\site-packages (0.1.2)\n",
      "Requirement already satisfied: feedparser<6.0.0,>=5.2.1 in c:\\users\\richa\\anaconda3\\lib\\site-packages (from pygooglenews) (5.2.1)\n",
      "Requirement already satisfied: beautifulsoup4<5.0.0,>=4.9.1 in c:\\users\\richa\\anaconda3\\lib\\site-packages (from pygooglenews) (4.9.3)\n",
      "Requirement already satisfied: requests<3.0.0,>=2.24.0 in c:\\users\\richa\\anaconda3\\lib\\site-packages (from pygooglenews) (2.25.1)\n",
      "Requirement already satisfied: dateparser<0.8.0,>=0.7.6 in c:\\users\\richa\\anaconda3\\lib\\site-packages (from pygooglenews) (0.7.6)\n",
      "Requirement already satisfied: soupsieve>1.2 in c:\\users\\richa\\anaconda3\\lib\\site-packages (from beautifulsoup4<5.0.0,>=4.9.1->pygooglenews) (2.2.1)\n",
      "Requirement already satisfied: regex!=2019.02.19 in c:\\users\\richa\\anaconda3\\lib\\site-packages (from dateparser<0.8.0,>=0.7.6->pygooglenews) (2021.4.4)\n",
      "Requirement already satisfied: python-dateutil in c:\\users\\richa\\anaconda3\\lib\\site-packages (from dateparser<0.8.0,>=0.7.6->pygooglenews) (2.8.1)\n",
      "Requirement already satisfied: pytz in c:\\users\\richa\\anaconda3\\lib\\site-packages (from dateparser<0.8.0,>=0.7.6->pygooglenews) (2021.1)\n",
      "Requirement already satisfied: tzlocal in c:\\users\\richa\\anaconda3\\lib\\site-packages (from dateparser<0.8.0,>=0.7.6->pygooglenews) (4.2)\n",
      "Requirement already satisfied: urllib3<1.27,>=1.21.1 in c:\\users\\richa\\anaconda3\\lib\\site-packages (from requests<3.0.0,>=2.24.0->pygooglenews) (1.26.4)\n",
      "Requirement already satisfied: chardet<5,>=3.0.2 in c:\\users\\richa\\anaconda3\\lib\\site-packages (from requests<3.0.0,>=2.24.0->pygooglenews) (4.0.0)\n",
      "Requirement already satisfied: certifi>=2017.4.17 in c:\\users\\richa\\anaconda3\\lib\\site-packages (from requests<3.0.0,>=2.24.0->pygooglenews) (2020.12.5)\n",
      "Requirement already satisfied: idna<3,>=2.5 in c:\\users\\richa\\anaconda3\\lib\\site-packages (from requests<3.0.0,>=2.24.0->pygooglenews) (2.10)\n",
      "Requirement already satisfied: six>=1.5 in c:\\users\\richa\\anaconda3\\lib\\site-packages (from python-dateutil->dateparser<0.8.0,>=0.7.6->pygooglenews) (1.15.0)\n",
      "Requirement already satisfied: pytz-deprecation-shim in c:\\users\\richa\\anaconda3\\lib\\site-packages (from tzlocal->dateparser<0.8.0,>=0.7.6->pygooglenews) (0.1.0.post0)\n",
      "Requirement already satisfied: tzdata in c:\\users\\richa\\anaconda3\\lib\\site-packages (from tzlocal->dateparser<0.8.0,>=0.7.6->pygooglenews) (2022.1)\n",
      "Requirement already satisfied: backports.zoneinfo in c:\\users\\richa\\anaconda3\\lib\\site-packages (from tzlocal->dateparser<0.8.0,>=0.7.6->pygooglenews) (0.2.1)\n",
      "Note: you may need to restart the kernel to use updated packages.\n"
     ]
    }
   ],
   "source": [
    "pip install pygooglenews --upgrade"
   ]
  },
  {
   "cell_type": "code",
   "execution_count": 42,
   "id": "56eac85c",
   "metadata": {},
   "outputs": [
    {
     "ename": "ProgrammingError",
     "evalue": "Not enough parameters for the SQL statement",
     "output_type": "error",
     "traceback": [
      "\u001b[1;31m---------------------------------------------------------------------------\u001b[0m",
      "\u001b[1;31mIndexError\u001b[0m                                Traceback (most recent call last)",
      "\u001b[1;32m~\\anaconda3\\lib\\site-packages\\mysql\\connector\\cursor.py\u001b[0m in \u001b[0;36m__call__\u001b[1;34m(self, matchobj)\u001b[0m\n\u001b[0;32m     74\u001b[0m         \u001b[1;32mtry\u001b[0m\u001b[1;33m:\u001b[0m\u001b[1;33m\u001b[0m\u001b[1;33m\u001b[0m\u001b[0m\n\u001b[1;32m---> 75\u001b[1;33m             \u001b[1;32mreturn\u001b[0m \u001b[0mbytes\u001b[0m\u001b[1;33m(\u001b[0m\u001b[0mself\u001b[0m\u001b[1;33m.\u001b[0m\u001b[0mparams\u001b[0m\u001b[1;33m[\u001b[0m\u001b[0mindex\u001b[0m\u001b[1;33m]\u001b[0m\u001b[1;33m)\u001b[0m\u001b[1;33m\u001b[0m\u001b[1;33m\u001b[0m\u001b[0m\n\u001b[0m\u001b[0;32m     76\u001b[0m         \u001b[1;32mexcept\u001b[0m \u001b[0mIndexError\u001b[0m\u001b[1;33m:\u001b[0m\u001b[1;33m\u001b[0m\u001b[1;33m\u001b[0m\u001b[0m\n",
      "\u001b[1;31mIndexError\u001b[0m: tuple index out of range",
      "\nDuring handling of the above exception, another exception occurred:\n",
      "\u001b[1;31mProgrammingError\u001b[0m                          Traceback (most recent call last)",
      "\u001b[1;32m<ipython-input-42-78b7f33af878>\u001b[0m in \u001b[0;36m<module>\u001b[1;34m\u001b[0m\n\u001b[0;32m     13\u001b[0m \u001b[0mval\u001b[0m \u001b[1;33m=\u001b[0m \u001b[1;33m(\u001b[0m\u001b[1;34m\"titre\"\u001b[0m\u001b[1;33m,\u001b[0m  \u001b[1;34m\"date\"\u001b[0m\u001b[1;33m,\u001b[0m\u001b[1;34m\"lien_article\"\u001b[0m\u001b[1;33m,\u001b[0m \u001b[1;34m\"text\"\u001b[0m\u001b[1;33m,\u001b[0m \u001b[1;34m\"text\"\u001b[0m\u001b[1;33m,\u001b[0m\u001b[1;34m\"departement\"\u001b[0m\u001b[1;33m)\u001b[0m\u001b[1;33m\u001b[0m\u001b[1;33m\u001b[0m\u001b[0m\n\u001b[0;32m     14\u001b[0m \u001b[1;33m\u001b[0m\u001b[0m\n\u001b[1;32m---> 15\u001b[1;33m \u001b[0mmycursor\u001b[0m\u001b[1;33m.\u001b[0m\u001b[0mexecute\u001b[0m\u001b[1;33m(\u001b[0m\u001b[0msql\u001b[0m\u001b[1;33m,\u001b[0m \u001b[0mval\u001b[0m\u001b[1;33m)\u001b[0m\u001b[1;33m\u001b[0m\u001b[1;33m\u001b[0m\u001b[0m\n\u001b[0m\u001b[0;32m     16\u001b[0m \u001b[1;33m\u001b[0m\u001b[0m\n\u001b[0;32m     17\u001b[0m \u001b[0mmydb\u001b[0m\u001b[1;33m.\u001b[0m\u001b[0mcommit\u001b[0m\u001b[1;33m(\u001b[0m\u001b[1;33m)\u001b[0m\u001b[1;33m\u001b[0m\u001b[1;33m\u001b[0m\u001b[0m\n",
      "\u001b[1;32m~\\anaconda3\\lib\\site-packages\\mysql\\connector\\cursor.py\u001b[0m in \u001b[0;36mexecute\u001b[1;34m(self, operation, params, multi)\u001b[0m\n\u001b[0;32m    538\u001b[0m             \u001b[1;32melif\u001b[0m \u001b[0misinstance\u001b[0m\u001b[1;33m(\u001b[0m\u001b[0mparams\u001b[0m\u001b[1;33m,\u001b[0m \u001b[1;33m(\u001b[0m\u001b[0mlist\u001b[0m\u001b[1;33m,\u001b[0m \u001b[0mtuple\u001b[0m\u001b[1;33m)\u001b[0m\u001b[1;33m)\u001b[0m\u001b[1;33m:\u001b[0m\u001b[1;33m\u001b[0m\u001b[1;33m\u001b[0m\u001b[0m\n\u001b[0;32m    539\u001b[0m                 \u001b[0mpsub\u001b[0m \u001b[1;33m=\u001b[0m \u001b[0m_ParamSubstitutor\u001b[0m\u001b[1;33m(\u001b[0m\u001b[0mself\u001b[0m\u001b[1;33m.\u001b[0m\u001b[0m_process_params\u001b[0m\u001b[1;33m(\u001b[0m\u001b[0mparams\u001b[0m\u001b[1;33m)\u001b[0m\u001b[1;33m)\u001b[0m\u001b[1;33m\u001b[0m\u001b[1;33m\u001b[0m\u001b[0m\n\u001b[1;32m--> 540\u001b[1;33m                 \u001b[0mstmt\u001b[0m \u001b[1;33m=\u001b[0m \u001b[0mRE_PY_PARAM\u001b[0m\u001b[1;33m.\u001b[0m\u001b[0msub\u001b[0m\u001b[1;33m(\u001b[0m\u001b[0mpsub\u001b[0m\u001b[1;33m,\u001b[0m \u001b[0mstmt\u001b[0m\u001b[1;33m)\u001b[0m\u001b[1;33m\u001b[0m\u001b[1;33m\u001b[0m\u001b[0m\n\u001b[0m\u001b[0;32m    541\u001b[0m                 \u001b[1;32mif\u001b[0m \u001b[0mpsub\u001b[0m\u001b[1;33m.\u001b[0m\u001b[0mremaining\u001b[0m \u001b[1;33m!=\u001b[0m \u001b[1;36m0\u001b[0m\u001b[1;33m:\u001b[0m\u001b[1;33m\u001b[0m\u001b[1;33m\u001b[0m\u001b[0m\n\u001b[0;32m    542\u001b[0m                     raise errors.ProgrammingError(\n",
      "\u001b[1;32m~\\anaconda3\\lib\\site-packages\\mysql\\connector\\cursor.py\u001b[0m in \u001b[0;36m__call__\u001b[1;34m(self, matchobj)\u001b[0m\n\u001b[0;32m     75\u001b[0m             \u001b[1;32mreturn\u001b[0m \u001b[0mbytes\u001b[0m\u001b[1;33m(\u001b[0m\u001b[0mself\u001b[0m\u001b[1;33m.\u001b[0m\u001b[0mparams\u001b[0m\u001b[1;33m[\u001b[0m\u001b[0mindex\u001b[0m\u001b[1;33m]\u001b[0m\u001b[1;33m)\u001b[0m\u001b[1;33m\u001b[0m\u001b[1;33m\u001b[0m\u001b[0m\n\u001b[0;32m     76\u001b[0m         \u001b[1;32mexcept\u001b[0m \u001b[0mIndexError\u001b[0m\u001b[1;33m:\u001b[0m\u001b[1;33m\u001b[0m\u001b[1;33m\u001b[0m\u001b[0m\n\u001b[1;32m---> 77\u001b[1;33m             raise errors.ProgrammingError(\n\u001b[0m\u001b[0;32m     78\u001b[0m                 \"Not enough parameters for the SQL statement\")\n\u001b[0;32m     79\u001b[0m \u001b[1;33m\u001b[0m\u001b[0m\n",
      "\u001b[1;31mProgrammingError\u001b[0m: Not enough parameters for the SQL statement"
     ]
    }
   ],
   "source": [
    "import mysql.connector\n",
    "\n",
    "mydb = mysql.connector.connect(\n",
    "  host=\"34.155.38.235\",\n",
    "  user=\"root\",\n",
    "  password=\"Antoinejean31\",\n",
    "  database=\"quokkai\"\n",
    ")\n",
    "\n",
    "mycursor = mydb.cursor()\n",
    "\n",
    "sql = \"INSERT INTO article (titre, Date_,Source_,Lien,Texte,Resume_,Mood,Sujet,Loc,nbr_Like,nbr_report) VALUES (%s, %s,%s,%s, %s,%s,%s, %s,%s,%s,%s)\"\n",
    "val = (\"titre\",  \"date\",\"lien_article\", \"text\", \"text\",\"departement\")\n",
    "\n",
    "mycursor.execute(sql, val)\n",
    "\n",
    "mydb.commit()\n",
    "\n",
    "print(mycursor.rowcount, \"record inserted.\")"
   ]
  },
  {
   "cell_type": "code",
   "execution_count": null,
   "id": "fab73aca",
   "metadata": {},
   "outputs": [],
   "source": []
  }
 ],
 "metadata": {
  "kernelspec": {
   "display_name": "Python 3",
   "language": "python",
   "name": "python3"
  },
  "language_info": {
   "codemirror_mode": {
    "name": "ipython",
    "version": 3
   },
   "file_extension": ".py",
   "mimetype": "text/x-python",
   "name": "python",
   "nbconvert_exporter": "python",
   "pygments_lexer": "ipython3",
   "version": "3.8.10"
  }
 },
 "nbformat": 4,
 "nbformat_minor": 5
}
